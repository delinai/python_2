{
 "cells": [
  {
   "cell_type": "code",
   "execution_count": 119,
   "metadata": {},
   "outputs": [],
   "source": [
    "import pandas as pd\n",
    "import seaborn as sns\n",
    "import matplotlib.pyplot as plt\n",
    "import numpy as np"
   ]
  },
  {
   "cell_type": "code",
   "execution_count": 120,
   "metadata": {},
   "outputs": [],
   "source": [
    "df = pd.read_csv('/Users/delinaivanova/Library/CloudStorage/OneDrive-Personal/UoT/Micro Courses/Data Science/3250 B/Module 1/MessyData.csv')"
   ]
  },
  {
   "cell_type": "code",
   "execution_count": 121,
   "metadata": {},
   "outputs": [
    {
     "data": {
      "text/html": [
       "<div>\n",
       "<style scoped>\n",
       "    .dataframe tbody tr th:only-of-type {\n",
       "        vertical-align: middle;\n",
       "    }\n",
       "\n",
       "    .dataframe tbody tr th {\n",
       "        vertical-align: top;\n",
       "    }\n",
       "\n",
       "    .dataframe thead th {\n",
       "        text-align: right;\n",
       "    }\n",
       "</style>\n",
       "<table border=\"1\" class=\"dataframe\">\n",
       "  <thead>\n",
       "    <tr style=\"text-align: right;\">\n",
       "      <th></th>\n",
       "      <th>Name</th>\n",
       "      <th>PhoneNumber</th>\n",
       "      <th>City</th>\n",
       "      <th>Address</th>\n",
       "      <th>PostalCode</th>\n",
       "      <th>BirthDate</th>\n",
       "      <th>Income</th>\n",
       "      <th>CreditLimit</th>\n",
       "      <th>MaritalStatus</th>\n",
       "    </tr>\n",
       "  </thead>\n",
       "  <tbody>\n",
       "    <tr>\n",
       "      <th>0</th>\n",
       "      <td>Thane Arthur Andrews</td>\n",
       "      <td>8675550155</td>\n",
       "      <td>Yellowknife</td>\n",
       "      <td>25 West Arlington Drive</td>\n",
       "      <td>X1A3C7</td>\n",
       "      <td>30-Jan-87</td>\n",
       "      <td>77569.0</td>\n",
       "      <td>500</td>\n",
       "      <td>Single</td>\n",
       "    </tr>\n",
       "    <tr>\n",
       "      <th>1</th>\n",
       "      <td>Ty Tiina Hume</td>\n",
       "      <td>867-555-0148</td>\n",
       "      <td>Yellowknife</td>\n",
       "      <td>214 West Maple Dr.</td>\n",
       "      <td>X1A3J6</td>\n",
       "      <td>05-Sep-91</td>\n",
       "      <td>117630.0</td>\n",
       "      <td>5000</td>\n",
       "      <td>Divorced</td>\n",
       "    </tr>\n",
       "    <tr>\n",
       "      <th>2</th>\n",
       "      <td>Anita Travert</td>\n",
       "      <td>613-555-0111</td>\n",
       "      <td>Ottawa</td>\n",
       "      <td>24 Constitution St.</td>\n",
       "      <td>K2B8E3</td>\n",
       "      <td>02-May-52</td>\n",
       "      <td>NaN</td>\n",
       "      <td>3000</td>\n",
       "      <td>Married</td>\n",
       "    </tr>\n",
       "    <tr>\n",
       "      <th>3</th>\n",
       "      <td>Odilon Vera Ó Maoil Riain</td>\n",
       "      <td>204-555-0105</td>\n",
       "      <td>Winnipeg</td>\n",
       "      <td>7941 Greenview Street</td>\n",
       "      <td>R3G2J6</td>\n",
       "      <td>31-Oct-81</td>\n",
       "      <td>97911.0</td>\n",
       "      <td>4000</td>\n",
       "      <td>Divorced</td>\n",
       "    </tr>\n",
       "    <tr>\n",
       "      <th>4</th>\n",
       "      <td>Dot Cloé Jonasen</td>\n",
       "      <td>902555-0157</td>\n",
       "      <td>Charlottetown</td>\n",
       "      <td>74 Monroe Street</td>\n",
       "      <td>C1A2V3</td>\n",
       "      <td>25-Jul-01</td>\n",
       "      <td>NaN</td>\n",
       "      <td>high</td>\n",
       "      <td>NaN</td>\n",
       "    </tr>\n",
       "  </tbody>\n",
       "</table>\n",
       "</div>"
      ],
      "text/plain": [
       "                        Name   PhoneNumber           City  \\\n",
       "0       Thane Arthur Andrews    8675550155    Yellowknife   \n",
       "1              Ty Tiina Hume  867-555-0148    Yellowknife   \n",
       "2              Anita Travert  613-555-0111         Ottawa   \n",
       "3  Odilon Vera Ó Maoil Riain  204-555-0105       Winnipeg   \n",
       "4           Dot Cloé Jonasen   902555-0157  Charlottetown   \n",
       "\n",
       "                   Address PostalCode  BirthDate    Income CreditLimit  \\\n",
       "0  25 West Arlington Drive     X1A3C7  30-Jan-87   77569.0         500   \n",
       "1       214 West Maple Dr.     X1A3J6  05-Sep-91  117630.0        5000   \n",
       "2      24 Constitution St.     K2B8E3  02-May-52       NaN        3000   \n",
       "3    7941 Greenview Street     R3G2J6  31-Oct-81   97911.0        4000   \n",
       "4         74 Monroe Street     C1A2V3  25-Jul-01       NaN        high   \n",
       "\n",
       "  MaritalStatus  \n",
       "0        Single  \n",
       "1      Divorced  \n",
       "2       Married  \n",
       "3      Divorced  \n",
       "4           NaN  "
      ]
     },
     "execution_count": 121,
     "metadata": {},
     "output_type": "execute_result"
    }
   ],
   "source": [
    "df.head()"
   ]
  },
  {
   "cell_type": "code",
   "execution_count": 122,
   "metadata": {},
   "outputs": [
    {
     "name": "stdout",
     "output_type": "stream",
     "text": [
      "<class 'pandas.core.frame.DataFrame'>\n",
      "RangeIndex: 30 entries, 0 to 29\n",
      "Data columns (total 9 columns):\n",
      " #   Column         Non-Null Count  Dtype  \n",
      "---  ------         --------------  -----  \n",
      " 0   Name           30 non-null     object \n",
      " 1   PhoneNumber    30 non-null     object \n",
      " 2   City           30 non-null     object \n",
      " 3   Address        30 non-null     object \n",
      " 4   PostalCode     30 non-null     object \n",
      " 5   BirthDate      30 non-null     object \n",
      " 6   Income         26 non-null     float64\n",
      " 7   CreditLimit    30 non-null     object \n",
      " 8   MaritalStatus  24 non-null     object \n",
      "dtypes: float64(1), object(8)\n",
      "memory usage: 2.2+ KB\n"
     ]
    }
   ],
   "source": [
    "df.info()"
   ]
  },
  {
   "cell_type": "code",
   "execution_count": 123,
   "metadata": {},
   "outputs": [
    {
     "data": {
      "text/plain": [
       "Name             0\n",
       "PhoneNumber      0\n",
       "City             0\n",
       "Address          0\n",
       "PostalCode       0\n",
       "BirthDate        0\n",
       "Income           4\n",
       "CreditLimit      0\n",
       "MaritalStatus    6\n",
       "dtype: int64"
      ]
     },
     "execution_count": 123,
     "metadata": {},
     "output_type": "execute_result"
    }
   ],
   "source": [
    "# count the total number of missing values in the data\n",
    "df.isnull().sum()"
   ]
  },
  {
   "cell_type": "code",
   "execution_count": 124,
   "metadata": {},
   "outputs": [
    {
     "data": {
      "text/plain": [
       "10"
      ]
     },
     "execution_count": 124,
     "metadata": {},
     "output_type": "execute_result"
    }
   ],
   "source": [
    "# count the total number of missing values in the data\n",
    "df.isnull().sum().sum()"
   ]
  },
  {
   "cell_type": "code",
   "execution_count": 125,
   "metadata": {},
   "outputs": [
    {
     "data": {
      "text/plain": [
       "270"
      ]
     },
     "execution_count": 125,
     "metadata": {},
     "output_type": "execute_result"
    }
   ],
   "source": [
    "# use size to get the total number of data points in a data set\n",
    "df.size"
   ]
  },
  {
   "cell_type": "code",
   "execution_count": 126,
   "metadata": {},
   "outputs": [
    {
     "data": {
      "text/plain": [
       "(30, 9)"
      ]
     },
     "execution_count": 126,
     "metadata": {},
     "output_type": "execute_result"
    }
   ],
   "source": [
    "df.shape"
   ]
  },
  {
   "cell_type": "code",
   "execution_count": 127,
   "metadata": {},
   "outputs": [
    {
     "data": {
      "text/plain": [
       "270"
      ]
     },
     "execution_count": 127,
     "metadata": {},
     "output_type": "execute_result"
    }
   ],
   "source": [
    "# or use shape to manually calculate total number of data points\n",
    "df.shape[0] * df.shape[1]"
   ]
  },
  {
   "cell_type": "code",
   "execution_count": 128,
   "metadata": {},
   "outputs": [
    {
     "data": {
      "text/plain": [
       "0.037037037037037035"
      ]
     },
     "execution_count": 128,
     "metadata": {},
     "output_type": "execute_result"
    }
   ],
   "source": [
    "# calculate the % of missing data\n",
    "df.isnull().sum().sum()/df.size"
   ]
  },
  {
   "cell_type": "code",
   "execution_count": 129,
   "metadata": {},
   "outputs": [
    {
     "data": {
      "text/plain": [
       "Name             0.000000\n",
       "PhoneNumber      0.000000\n",
       "City             0.000000\n",
       "Address          0.000000\n",
       "PostalCode       0.000000\n",
       "BirthDate        0.000000\n",
       "Income           0.133333\n",
       "CreditLimit      0.000000\n",
       "MaritalStatus    0.200000\n",
       "dtype: float64"
      ]
     },
     "execution_count": 129,
     "metadata": {},
     "output_type": "execute_result"
    }
   ],
   "source": [
    "# calculate the % of missing data by column\n",
    "df.isnull().sum()/df.shape[0]"
   ]
  },
  {
   "cell_type": "code",
   "execution_count": 130,
   "metadata": {},
   "outputs": [
    {
     "data": {
      "text/plain": [
       "(30, 9)"
      ]
     },
     "execution_count": 130,
     "metadata": {},
     "output_type": "execute_result"
    }
   ],
   "source": [
    "df.shape"
   ]
  },
  {
   "cell_type": "code",
   "execution_count": 131,
   "metadata": {},
   "outputs": [
    {
     "name": "stdout",
     "output_type": "stream",
     "text": [
      "<class 'pandas.core.frame.DataFrame'>\n",
      "Index: 21 entries, 0 to 28\n",
      "Data columns (total 9 columns):\n",
      " #   Column         Non-Null Count  Dtype  \n",
      "---  ------         --------------  -----  \n",
      " 0   Name           21 non-null     object \n",
      " 1   PhoneNumber    21 non-null     object \n",
      " 2   City           21 non-null     object \n",
      " 3   Address        21 non-null     object \n",
      " 4   PostalCode     21 non-null     object \n",
      " 5   BirthDate      21 non-null     object \n",
      " 6   Income         21 non-null     float64\n",
      " 7   CreditLimit    21 non-null     object \n",
      " 8   MaritalStatus  21 non-null     object \n",
      "dtypes: float64(1), object(8)\n",
      "memory usage: 1.6+ KB\n"
     ]
    }
   ],
   "source": [
    "# simulate what would happen if we drop missing data\n",
    "df.dropna().info()"
   ]
  },
  {
   "cell_type": "code",
   "execution_count": 132,
   "metadata": {},
   "outputs": [
    {
     "data": {
      "text/html": [
       "<div>\n",
       "<style scoped>\n",
       "    .dataframe tbody tr th:only-of-type {\n",
       "        vertical-align: middle;\n",
       "    }\n",
       "\n",
       "    .dataframe tbody tr th {\n",
       "        vertical-align: top;\n",
       "    }\n",
       "\n",
       "    .dataframe thead th {\n",
       "        text-align: right;\n",
       "    }\n",
       "</style>\n",
       "<table border=\"1\" class=\"dataframe\">\n",
       "  <thead>\n",
       "    <tr style=\"text-align: right;\">\n",
       "      <th></th>\n",
       "      <th>Name</th>\n",
       "      <th>PhoneNumber</th>\n",
       "      <th>City</th>\n",
       "      <th>Address</th>\n",
       "      <th>PostalCode</th>\n",
       "      <th>BirthDate</th>\n",
       "      <th>Income</th>\n",
       "      <th>CreditLimit</th>\n",
       "      <th>MaritalStatus</th>\n",
       "    </tr>\n",
       "  </thead>\n",
       "  <tbody>\n",
       "    <tr>\n",
       "      <th>4</th>\n",
       "      <td>Dot Cloé Jonasen</td>\n",
       "      <td>902555-0157</td>\n",
       "      <td>Charlottetown</td>\n",
       "      <td>74 Monroe Street</td>\n",
       "      <td>C1A2V3</td>\n",
       "      <td>25-Jul-01</td>\n",
       "      <td>NaN</td>\n",
       "      <td>high</td>\n",
       "      <td>NaN</td>\n",
       "    </tr>\n",
       "  </tbody>\n",
       "</table>\n",
       "</div>"
      ],
      "text/plain": [
       "               Name  PhoneNumber           City           Address PostalCode  \\\n",
       "4  Dot Cloé Jonasen  902555-0157  Charlottetown  74 Monroe Street     C1A2V3   \n",
       "\n",
       "   BirthDate  Income CreditLimit MaritalStatus  \n",
       "4  25-Jul-01     NaN        high           NaN  "
      ]
     },
     "execution_count": 132,
     "metadata": {},
     "output_type": "execute_result"
    }
   ],
   "source": [
    "# use string method to check for alphabetical data points within a column\n",
    "df[df['CreditLimit'].str.isalpha()]"
   ]
  },
  {
   "cell_type": "code",
   "execution_count": 133,
   "metadata": {},
   "outputs": [],
   "source": [
    "# we could directly replace the value using replace()\n",
    "df2 = df.copy()"
   ]
  },
  {
   "cell_type": "code",
   "execution_count": 134,
   "metadata": {},
   "outputs": [],
   "source": [
    "df2['CreditLimit'] = df2['CreditLimit'].replace('high',np.nan)"
   ]
  },
  {
   "cell_type": "code",
   "execution_count": 135,
   "metadata": {},
   "outputs": [
    {
     "data": {
      "text/html": [
       "<div>\n",
       "<style scoped>\n",
       "    .dataframe tbody tr th:only-of-type {\n",
       "        vertical-align: middle;\n",
       "    }\n",
       "\n",
       "    .dataframe tbody tr th {\n",
       "        vertical-align: top;\n",
       "    }\n",
       "\n",
       "    .dataframe thead th {\n",
       "        text-align: right;\n",
       "    }\n",
       "</style>\n",
       "<table border=\"1\" class=\"dataframe\">\n",
       "  <thead>\n",
       "    <tr style=\"text-align: right;\">\n",
       "      <th></th>\n",
       "      <th>Name</th>\n",
       "      <th>PhoneNumber</th>\n",
       "      <th>City</th>\n",
       "      <th>Address</th>\n",
       "      <th>PostalCode</th>\n",
       "      <th>BirthDate</th>\n",
       "      <th>Income</th>\n",
       "      <th>CreditLimit</th>\n",
       "      <th>MaritalStatus</th>\n",
       "    </tr>\n",
       "  </thead>\n",
       "  <tbody>\n",
       "    <tr>\n",
       "      <th>0</th>\n",
       "      <td>Thane Arthur Andrews</td>\n",
       "      <td>8675550155</td>\n",
       "      <td>Yellowknife</td>\n",
       "      <td>25 West Arlington Drive</td>\n",
       "      <td>X1A3C7</td>\n",
       "      <td>30-Jan-87</td>\n",
       "      <td>77569.0</td>\n",
       "      <td>500</td>\n",
       "      <td>Single</td>\n",
       "    </tr>\n",
       "    <tr>\n",
       "      <th>1</th>\n",
       "      <td>Ty Tiina Hume</td>\n",
       "      <td>867-555-0148</td>\n",
       "      <td>Yellowknife</td>\n",
       "      <td>214 West Maple Dr.</td>\n",
       "      <td>X1A3J6</td>\n",
       "      <td>05-Sep-91</td>\n",
       "      <td>117630.0</td>\n",
       "      <td>5000</td>\n",
       "      <td>Divorced</td>\n",
       "    </tr>\n",
       "    <tr>\n",
       "      <th>2</th>\n",
       "      <td>Anita Travert</td>\n",
       "      <td>613-555-0111</td>\n",
       "      <td>Ottawa</td>\n",
       "      <td>24 Constitution St.</td>\n",
       "      <td>K2B8E3</td>\n",
       "      <td>02-May-52</td>\n",
       "      <td>NaN</td>\n",
       "      <td>3000</td>\n",
       "      <td>Married</td>\n",
       "    </tr>\n",
       "    <tr>\n",
       "      <th>3</th>\n",
       "      <td>Odilon Vera Ó Maoil Riain</td>\n",
       "      <td>204-555-0105</td>\n",
       "      <td>Winnipeg</td>\n",
       "      <td>7941 Greenview Street</td>\n",
       "      <td>R3G2J6</td>\n",
       "      <td>31-Oct-81</td>\n",
       "      <td>97911.0</td>\n",
       "      <td>4000</td>\n",
       "      <td>Divorced</td>\n",
       "    </tr>\n",
       "    <tr>\n",
       "      <th>4</th>\n",
       "      <td>Dot Cloé Jonasen</td>\n",
       "      <td>902555-0157</td>\n",
       "      <td>Charlottetown</td>\n",
       "      <td>74 Monroe Street</td>\n",
       "      <td>C1A2V3</td>\n",
       "      <td>25-Jul-01</td>\n",
       "      <td>NaN</td>\n",
       "      <td>NaN</td>\n",
       "      <td>NaN</td>\n",
       "    </tr>\n",
       "  </tbody>\n",
       "</table>\n",
       "</div>"
      ],
      "text/plain": [
       "                        Name   PhoneNumber           City  \\\n",
       "0       Thane Arthur Andrews    8675550155    Yellowknife   \n",
       "1              Ty Tiina Hume  867-555-0148    Yellowknife   \n",
       "2              Anita Travert  613-555-0111         Ottawa   \n",
       "3  Odilon Vera Ó Maoil Riain  204-555-0105       Winnipeg   \n",
       "4           Dot Cloé Jonasen   902555-0157  Charlottetown   \n",
       "\n",
       "                   Address PostalCode  BirthDate    Income CreditLimit  \\\n",
       "0  25 West Arlington Drive     X1A3C7  30-Jan-87   77569.0         500   \n",
       "1       214 West Maple Dr.     X1A3J6  05-Sep-91  117630.0        5000   \n",
       "2      24 Constitution St.     K2B8E3  02-May-52       NaN        3000   \n",
       "3    7941 Greenview Street     R3G2J6  31-Oct-81   97911.0        4000   \n",
       "4         74 Monroe Street     C1A2V3  25-Jul-01       NaN         NaN   \n",
       "\n",
       "  MaritalStatus  \n",
       "0        Single  \n",
       "1      Divorced  \n",
       "2       Married  \n",
       "3      Divorced  \n",
       "4           NaN  "
      ]
     },
     "execution_count": 135,
     "metadata": {},
     "output_type": "execute_result"
    }
   ],
   "source": [
    "df2.head()"
   ]
  },
  {
   "cell_type": "code",
   "execution_count": 136,
   "metadata": {},
   "outputs": [],
   "source": [
    "# the other way to replace wrong data types is to force-convert to numeric\n",
    "df['CreditLimit'] = pd.to_numeric(df['CreditLimit'], errors='coerce')"
   ]
  },
  {
   "cell_type": "code",
   "execution_count": 137,
   "metadata": {},
   "outputs": [
    {
     "data": {
      "text/html": [
       "<div>\n",
       "<style scoped>\n",
       "    .dataframe tbody tr th:only-of-type {\n",
       "        vertical-align: middle;\n",
       "    }\n",
       "\n",
       "    .dataframe tbody tr th {\n",
       "        vertical-align: top;\n",
       "    }\n",
       "\n",
       "    .dataframe thead th {\n",
       "        text-align: right;\n",
       "    }\n",
       "</style>\n",
       "<table border=\"1\" class=\"dataframe\">\n",
       "  <thead>\n",
       "    <tr style=\"text-align: right;\">\n",
       "      <th></th>\n",
       "      <th>Name</th>\n",
       "      <th>PhoneNumber</th>\n",
       "      <th>City</th>\n",
       "      <th>Address</th>\n",
       "      <th>PostalCode</th>\n",
       "      <th>BirthDate</th>\n",
       "      <th>Income</th>\n",
       "      <th>CreditLimit</th>\n",
       "      <th>MaritalStatus</th>\n",
       "    </tr>\n",
       "  </thead>\n",
       "  <tbody>\n",
       "    <tr>\n",
       "      <th>0</th>\n",
       "      <td>Thane Arthur Andrews</td>\n",
       "      <td>8675550155</td>\n",
       "      <td>Yellowknife</td>\n",
       "      <td>25 West Arlington Drive</td>\n",
       "      <td>X1A3C7</td>\n",
       "      <td>30-Jan-87</td>\n",
       "      <td>77569.0</td>\n",
       "      <td>500.0</td>\n",
       "      <td>Single</td>\n",
       "    </tr>\n",
       "    <tr>\n",
       "      <th>1</th>\n",
       "      <td>Ty Tiina Hume</td>\n",
       "      <td>867-555-0148</td>\n",
       "      <td>Yellowknife</td>\n",
       "      <td>214 West Maple Dr.</td>\n",
       "      <td>X1A3J6</td>\n",
       "      <td>05-Sep-91</td>\n",
       "      <td>117630.0</td>\n",
       "      <td>5000.0</td>\n",
       "      <td>Divorced</td>\n",
       "    </tr>\n",
       "    <tr>\n",
       "      <th>2</th>\n",
       "      <td>Anita Travert</td>\n",
       "      <td>613-555-0111</td>\n",
       "      <td>Ottawa</td>\n",
       "      <td>24 Constitution St.</td>\n",
       "      <td>K2B8E3</td>\n",
       "      <td>02-May-52</td>\n",
       "      <td>NaN</td>\n",
       "      <td>3000.0</td>\n",
       "      <td>Married</td>\n",
       "    </tr>\n",
       "    <tr>\n",
       "      <th>3</th>\n",
       "      <td>Odilon Vera Ó Maoil Riain</td>\n",
       "      <td>204-555-0105</td>\n",
       "      <td>Winnipeg</td>\n",
       "      <td>7941 Greenview Street</td>\n",
       "      <td>R3G2J6</td>\n",
       "      <td>31-Oct-81</td>\n",
       "      <td>97911.0</td>\n",
       "      <td>4000.0</td>\n",
       "      <td>Divorced</td>\n",
       "    </tr>\n",
       "    <tr>\n",
       "      <th>4</th>\n",
       "      <td>Dot Cloé Jonasen</td>\n",
       "      <td>902555-0157</td>\n",
       "      <td>Charlottetown</td>\n",
       "      <td>74 Monroe Street</td>\n",
       "      <td>C1A2V3</td>\n",
       "      <td>25-Jul-01</td>\n",
       "      <td>NaN</td>\n",
       "      <td>NaN</td>\n",
       "      <td>NaN</td>\n",
       "    </tr>\n",
       "  </tbody>\n",
       "</table>\n",
       "</div>"
      ],
      "text/plain": [
       "                        Name   PhoneNumber           City  \\\n",
       "0       Thane Arthur Andrews    8675550155    Yellowknife   \n",
       "1              Ty Tiina Hume  867-555-0148    Yellowknife   \n",
       "2              Anita Travert  613-555-0111         Ottawa   \n",
       "3  Odilon Vera Ó Maoil Riain  204-555-0105       Winnipeg   \n",
       "4           Dot Cloé Jonasen   902555-0157  Charlottetown   \n",
       "\n",
       "                   Address PostalCode  BirthDate    Income  CreditLimit  \\\n",
       "0  25 West Arlington Drive     X1A3C7  30-Jan-87   77569.0        500.0   \n",
       "1       214 West Maple Dr.     X1A3J6  05-Sep-91  117630.0       5000.0   \n",
       "2      24 Constitution St.     K2B8E3  02-May-52       NaN       3000.0   \n",
       "3    7941 Greenview Street     R3G2J6  31-Oct-81   97911.0       4000.0   \n",
       "4         74 Monroe Street     C1A2V3  25-Jul-01       NaN          NaN   \n",
       "\n",
       "  MaritalStatus  \n",
       "0        Single  \n",
       "1      Divorced  \n",
       "2       Married  \n",
       "3      Divorced  \n",
       "4           NaN  "
      ]
     },
     "execution_count": 137,
     "metadata": {},
     "output_type": "execute_result"
    }
   ],
   "source": [
    "df.head()"
   ]
  },
  {
   "cell_type": "code",
   "execution_count": 138,
   "metadata": {},
   "outputs": [
    {
     "name": "stderr",
     "output_type": "stream",
     "text": [
      "/var/folders/75/tr_v06ms4k7gy38vcppxbcf80000gn/T/ipykernel_29978/2124381247.py:2: UserWarning: Could not infer format, so each element will be parsed individually, falling back to `dateutil`. To ensure parsing is consistent and as-expected, please specify a format.\n",
      "  df['BirthDate'] = pd.to_datetime(df['BirthDate'])\n"
     ]
    }
   ],
   "source": [
    "# convert birthday column from object to datetime data type\n",
    "df['BirthDate'] = pd.to_datetime(df['BirthDate'])"
   ]
  },
  {
   "cell_type": "code",
   "execution_count": 139,
   "metadata": {},
   "outputs": [
    {
     "name": "stdout",
     "output_type": "stream",
     "text": [
      "<class 'pandas.core.frame.DataFrame'>\n",
      "RangeIndex: 30 entries, 0 to 29\n",
      "Data columns (total 9 columns):\n",
      " #   Column         Non-Null Count  Dtype         \n",
      "---  ------         --------------  -----         \n",
      " 0   Name           30 non-null     object        \n",
      " 1   PhoneNumber    30 non-null     object        \n",
      " 2   City           30 non-null     object        \n",
      " 3   Address        30 non-null     object        \n",
      " 4   PostalCode     30 non-null     object        \n",
      " 5   BirthDate      30 non-null     datetime64[ns]\n",
      " 6   Income         26 non-null     float64       \n",
      " 7   CreditLimit    29 non-null     float64       \n",
      " 8   MaritalStatus  24 non-null     object        \n",
      "dtypes: datetime64[ns](1), float64(2), object(6)\n",
      "memory usage: 2.2+ KB\n"
     ]
    }
   ],
   "source": [
    "df.info()"
   ]
  },
  {
   "cell_type": "code",
   "execution_count": 140,
   "metadata": {},
   "outputs": [
    {
     "data": {
      "text/html": [
       "<div>\n",
       "<style scoped>\n",
       "    .dataframe tbody tr th:only-of-type {\n",
       "        vertical-align: middle;\n",
       "    }\n",
       "\n",
       "    .dataframe tbody tr th {\n",
       "        vertical-align: top;\n",
       "    }\n",
       "\n",
       "    .dataframe thead th {\n",
       "        text-align: right;\n",
       "    }\n",
       "</style>\n",
       "<table border=\"1\" class=\"dataframe\">\n",
       "  <thead>\n",
       "    <tr style=\"text-align: right;\">\n",
       "      <th></th>\n",
       "      <th>Name</th>\n",
       "      <th>PhoneNumber</th>\n",
       "      <th>City</th>\n",
       "      <th>Address</th>\n",
       "      <th>PostalCode</th>\n",
       "      <th>BirthDate</th>\n",
       "      <th>Income</th>\n",
       "      <th>CreditLimit</th>\n",
       "      <th>MaritalStatus</th>\n",
       "    </tr>\n",
       "  </thead>\n",
       "  <tbody>\n",
       "    <tr>\n",
       "      <th>0</th>\n",
       "      <td>Thane Arthur Andrews</td>\n",
       "      <td>8675550155</td>\n",
       "      <td>Yellowknife</td>\n",
       "      <td>25 West Arlington Drive</td>\n",
       "      <td>X1A3C7</td>\n",
       "      <td>1987-01-30</td>\n",
       "      <td>77569.0</td>\n",
       "      <td>500.0</td>\n",
       "      <td>Single</td>\n",
       "    </tr>\n",
       "    <tr>\n",
       "      <th>1</th>\n",
       "      <td>Ty Tiina Hume</td>\n",
       "      <td>867-555-0148</td>\n",
       "      <td>Yellowknife</td>\n",
       "      <td>214 West Maple Dr.</td>\n",
       "      <td>X1A3J6</td>\n",
       "      <td>1991-09-05</td>\n",
       "      <td>117630.0</td>\n",
       "      <td>5000.0</td>\n",
       "      <td>Divorced</td>\n",
       "    </tr>\n",
       "    <tr>\n",
       "      <th>2</th>\n",
       "      <td>Anita Travert</td>\n",
       "      <td>613-555-0111</td>\n",
       "      <td>Ottawa</td>\n",
       "      <td>24 Constitution St.</td>\n",
       "      <td>K2B8E3</td>\n",
       "      <td>2052-05-02</td>\n",
       "      <td>NaN</td>\n",
       "      <td>3000.0</td>\n",
       "      <td>Married</td>\n",
       "    </tr>\n",
       "    <tr>\n",
       "      <th>3</th>\n",
       "      <td>Odilon Vera Ó Maoil Riain</td>\n",
       "      <td>204-555-0105</td>\n",
       "      <td>Winnipeg</td>\n",
       "      <td>7941 Greenview Street</td>\n",
       "      <td>R3G2J6</td>\n",
       "      <td>1981-10-31</td>\n",
       "      <td>97911.0</td>\n",
       "      <td>4000.0</td>\n",
       "      <td>Divorced</td>\n",
       "    </tr>\n",
       "    <tr>\n",
       "      <th>4</th>\n",
       "      <td>Dot Cloé Jonasen</td>\n",
       "      <td>902555-0157</td>\n",
       "      <td>Charlottetown</td>\n",
       "      <td>74 Monroe Street</td>\n",
       "      <td>C1A2V3</td>\n",
       "      <td>2001-07-25</td>\n",
       "      <td>NaN</td>\n",
       "      <td>NaN</td>\n",
       "      <td>NaN</td>\n",
       "    </tr>\n",
       "  </tbody>\n",
       "</table>\n",
       "</div>"
      ],
      "text/plain": [
       "                        Name   PhoneNumber           City  \\\n",
       "0       Thane Arthur Andrews    8675550155    Yellowknife   \n",
       "1              Ty Tiina Hume  867-555-0148    Yellowknife   \n",
       "2              Anita Travert  613-555-0111         Ottawa   \n",
       "3  Odilon Vera Ó Maoil Riain  204-555-0105       Winnipeg   \n",
       "4           Dot Cloé Jonasen   902555-0157  Charlottetown   \n",
       "\n",
       "                   Address PostalCode  BirthDate    Income  CreditLimit  \\\n",
       "0  25 West Arlington Drive     X1A3C7 1987-01-30   77569.0        500.0   \n",
       "1       214 West Maple Dr.     X1A3J6 1991-09-05  117630.0       5000.0   \n",
       "2      24 Constitution St.     K2B8E3 2052-05-02       NaN       3000.0   \n",
       "3    7941 Greenview Street     R3G2J6 1981-10-31   97911.0       4000.0   \n",
       "4         74 Monroe Street     C1A2V3 2001-07-25       NaN          NaN   \n",
       "\n",
       "  MaritalStatus  \n",
       "0        Single  \n",
       "1      Divorced  \n",
       "2       Married  \n",
       "3      Divorced  \n",
       "4           NaN  "
      ]
     },
     "execution_count": 140,
     "metadata": {},
     "output_type": "execute_result"
    }
   ],
   "source": [
    "df.head()"
   ]
  },
  {
   "cell_type": "code",
   "execution_count": 141,
   "metadata": {},
   "outputs": [],
   "source": [
    "check_years = []\n",
    "greater_than_2024 = []\n",
    "for i in df['BirthDate']:\n",
    "    check_years.append(i.year)\n",
    "    if i.year > 2024:\n",
    "        greater_than_2024.append(i)"
   ]
  },
  {
   "cell_type": "code",
   "execution_count": 142,
   "metadata": {},
   "outputs": [
    {
     "name": "stdout",
     "output_type": "stream",
     "text": [
      "1974 2068\n"
     ]
    }
   ],
   "source": [
    "check_years.sort()\n",
    "print(min(check_years), max(check_years))"
   ]
  },
  {
   "cell_type": "code",
   "execution_count": 143,
   "metadata": {},
   "outputs": [
    {
     "data": {
      "text/plain": [
       "[Timestamp('2052-05-02 00:00:00'),\n",
       " Timestamp('2062-03-15 00:00:00'),\n",
       " Timestamp('2068-07-25 00:00:00'),\n",
       " Timestamp('2062-01-24 00:00:00'),\n",
       " Timestamp('2056-11-03 00:00:00'),\n",
       " Timestamp('2058-02-27 00:00:00'),\n",
       " Timestamp('2065-07-31 00:00:00'),\n",
       " Timestamp('2058-03-23 00:00:00')]"
      ]
     },
     "execution_count": 143,
     "metadata": {},
     "output_type": "execute_result"
    }
   ],
   "source": [
    "greater_than_2024"
   ]
  },
  {
   "cell_type": "code",
   "execution_count": 144,
   "metadata": {},
   "outputs": [],
   "source": [
    "import datetime"
   ]
  },
  {
   "cell_type": "code",
   "execution_count": 145,
   "metadata": {},
   "outputs": [
    {
     "data": {
      "text/plain": [
       "2024"
      ]
     },
     "execution_count": 145,
     "metadata": {},
     "output_type": "execute_result"
    }
   ],
   "source": [
    "datetime.datetime.today().year"
   ]
  },
  {
   "cell_type": "code",
   "execution_count": 146,
   "metadata": {},
   "outputs": [],
   "source": [
    "def fix_date(x):\n",
    "    if x.year > datetime.datetime.today().year:\n",
    "        year = x.year - 100\n",
    "    else:\n",
    "        year = x.year\n",
    "    return datetime.date(year, x.month, x.day)"
   ]
  },
  {
   "cell_type": "code",
   "execution_count": 147,
   "metadata": {},
   "outputs": [],
   "source": [
    "df['BirthDate'] = df['BirthDate'].apply(fix_date)"
   ]
  },
  {
   "cell_type": "code",
   "execution_count": 148,
   "metadata": {},
   "outputs": [
    {
     "data": {
      "text/html": [
       "<div>\n",
       "<style scoped>\n",
       "    .dataframe tbody tr th:only-of-type {\n",
       "        vertical-align: middle;\n",
       "    }\n",
       "\n",
       "    .dataframe tbody tr th {\n",
       "        vertical-align: top;\n",
       "    }\n",
       "\n",
       "    .dataframe thead th {\n",
       "        text-align: right;\n",
       "    }\n",
       "</style>\n",
       "<table border=\"1\" class=\"dataframe\">\n",
       "  <thead>\n",
       "    <tr style=\"text-align: right;\">\n",
       "      <th></th>\n",
       "      <th>Name</th>\n",
       "      <th>PhoneNumber</th>\n",
       "      <th>City</th>\n",
       "      <th>Address</th>\n",
       "      <th>PostalCode</th>\n",
       "      <th>BirthDate</th>\n",
       "      <th>Income</th>\n",
       "      <th>CreditLimit</th>\n",
       "      <th>MaritalStatus</th>\n",
       "    </tr>\n",
       "  </thead>\n",
       "  <tbody>\n",
       "    <tr>\n",
       "      <th>0</th>\n",
       "      <td>Thane Arthur Andrews</td>\n",
       "      <td>8675550155</td>\n",
       "      <td>Yellowknife</td>\n",
       "      <td>25 West Arlington Drive</td>\n",
       "      <td>X1A3C7</td>\n",
       "      <td>1987-01-30</td>\n",
       "      <td>77569.0</td>\n",
       "      <td>500.0</td>\n",
       "      <td>Single</td>\n",
       "    </tr>\n",
       "    <tr>\n",
       "      <th>1</th>\n",
       "      <td>Ty Tiina Hume</td>\n",
       "      <td>867-555-0148</td>\n",
       "      <td>Yellowknife</td>\n",
       "      <td>214 West Maple Dr.</td>\n",
       "      <td>X1A3J6</td>\n",
       "      <td>1991-09-05</td>\n",
       "      <td>117630.0</td>\n",
       "      <td>5000.0</td>\n",
       "      <td>Divorced</td>\n",
       "    </tr>\n",
       "    <tr>\n",
       "      <th>2</th>\n",
       "      <td>Anita Travert</td>\n",
       "      <td>613-555-0111</td>\n",
       "      <td>Ottawa</td>\n",
       "      <td>24 Constitution St.</td>\n",
       "      <td>K2B8E3</td>\n",
       "      <td>1952-05-02</td>\n",
       "      <td>NaN</td>\n",
       "      <td>3000.0</td>\n",
       "      <td>Married</td>\n",
       "    </tr>\n",
       "    <tr>\n",
       "      <th>3</th>\n",
       "      <td>Odilon Vera Ó Maoil Riain</td>\n",
       "      <td>204-555-0105</td>\n",
       "      <td>Winnipeg</td>\n",
       "      <td>7941 Greenview Street</td>\n",
       "      <td>R3G2J6</td>\n",
       "      <td>1981-10-31</td>\n",
       "      <td>97911.0</td>\n",
       "      <td>4000.0</td>\n",
       "      <td>Divorced</td>\n",
       "    </tr>\n",
       "    <tr>\n",
       "      <th>4</th>\n",
       "      <td>Dot Cloé Jonasen</td>\n",
       "      <td>902555-0157</td>\n",
       "      <td>Charlottetown</td>\n",
       "      <td>74 Monroe Street</td>\n",
       "      <td>C1A2V3</td>\n",
       "      <td>2001-07-25</td>\n",
       "      <td>NaN</td>\n",
       "      <td>NaN</td>\n",
       "      <td>NaN</td>\n",
       "    </tr>\n",
       "  </tbody>\n",
       "</table>\n",
       "</div>"
      ],
      "text/plain": [
       "                        Name   PhoneNumber           City  \\\n",
       "0       Thane Arthur Andrews    8675550155    Yellowknife   \n",
       "1              Ty Tiina Hume  867-555-0148    Yellowknife   \n",
       "2              Anita Travert  613-555-0111         Ottawa   \n",
       "3  Odilon Vera Ó Maoil Riain  204-555-0105       Winnipeg   \n",
       "4           Dot Cloé Jonasen   902555-0157  Charlottetown   \n",
       "\n",
       "                   Address PostalCode   BirthDate    Income  CreditLimit  \\\n",
       "0  25 West Arlington Drive     X1A3C7  1987-01-30   77569.0        500.0   \n",
       "1       214 West Maple Dr.     X1A3J6  1991-09-05  117630.0       5000.0   \n",
       "2      24 Constitution St.     K2B8E3  1952-05-02       NaN       3000.0   \n",
       "3    7941 Greenview Street     R3G2J6  1981-10-31   97911.0       4000.0   \n",
       "4         74 Monroe Street     C1A2V3  2001-07-25       NaN          NaN   \n",
       "\n",
       "  MaritalStatus  \n",
       "0        Single  \n",
       "1      Divorced  \n",
       "2       Married  \n",
       "3      Divorced  \n",
       "4           NaN  "
      ]
     },
     "execution_count": 148,
     "metadata": {},
     "output_type": "execute_result"
    }
   ],
   "source": [
    "df.head()"
   ]
  },
  {
   "cell_type": "code",
   "execution_count": 149,
   "metadata": {},
   "outputs": [],
   "source": [
    "df['BirthDate'] = pd.to_datetime(df['BirthDate'])"
   ]
  },
  {
   "cell_type": "code",
   "execution_count": 150,
   "metadata": {},
   "outputs": [
    {
     "data": {
      "text/html": [
       "<div>\n",
       "<style scoped>\n",
       "    .dataframe tbody tr th:only-of-type {\n",
       "        vertical-align: middle;\n",
       "    }\n",
       "\n",
       "    .dataframe tbody tr th {\n",
       "        vertical-align: top;\n",
       "    }\n",
       "\n",
       "    .dataframe thead th {\n",
       "        text-align: right;\n",
       "    }\n",
       "</style>\n",
       "<table border=\"1\" class=\"dataframe\">\n",
       "  <thead>\n",
       "    <tr style=\"text-align: right;\">\n",
       "      <th></th>\n",
       "      <th>Name</th>\n",
       "      <th>PhoneNumber</th>\n",
       "      <th>City</th>\n",
       "      <th>Address</th>\n",
       "      <th>PostalCode</th>\n",
       "      <th>BirthDate</th>\n",
       "      <th>Income</th>\n",
       "      <th>CreditLimit</th>\n",
       "      <th>MaritalStatus</th>\n",
       "    </tr>\n",
       "  </thead>\n",
       "  <tbody>\n",
       "    <tr>\n",
       "      <th>0</th>\n",
       "      <td>Thane Arthur Andrews</td>\n",
       "      <td>8675550155</td>\n",
       "      <td>Yellowknife</td>\n",
       "      <td>25 West Arlington Drive</td>\n",
       "      <td>X1A3C7</td>\n",
       "      <td>1987-01-30</td>\n",
       "      <td>77569.0</td>\n",
       "      <td>500.0</td>\n",
       "      <td>Single</td>\n",
       "    </tr>\n",
       "    <tr>\n",
       "      <th>1</th>\n",
       "      <td>Ty Tiina Hume</td>\n",
       "      <td>867-555-0148</td>\n",
       "      <td>Yellowknife</td>\n",
       "      <td>214 West Maple Dr.</td>\n",
       "      <td>X1A3J6</td>\n",
       "      <td>1991-09-05</td>\n",
       "      <td>117630.0</td>\n",
       "      <td>5000.0</td>\n",
       "      <td>Divorced</td>\n",
       "    </tr>\n",
       "    <tr>\n",
       "      <th>2</th>\n",
       "      <td>Anita Travert</td>\n",
       "      <td>613-555-0111</td>\n",
       "      <td>Ottawa</td>\n",
       "      <td>24 Constitution St.</td>\n",
       "      <td>K2B8E3</td>\n",
       "      <td>1952-05-02</td>\n",
       "      <td>NaN</td>\n",
       "      <td>3000.0</td>\n",
       "      <td>Married</td>\n",
       "    </tr>\n",
       "    <tr>\n",
       "      <th>3</th>\n",
       "      <td>Odilon Vera Ó Maoil Riain</td>\n",
       "      <td>204-555-0105</td>\n",
       "      <td>Winnipeg</td>\n",
       "      <td>7941 Greenview Street</td>\n",
       "      <td>R3G2J6</td>\n",
       "      <td>1981-10-31</td>\n",
       "      <td>97911.0</td>\n",
       "      <td>4000.0</td>\n",
       "      <td>Divorced</td>\n",
       "    </tr>\n",
       "    <tr>\n",
       "      <th>4</th>\n",
       "      <td>Dot Cloé Jonasen</td>\n",
       "      <td>902555-0157</td>\n",
       "      <td>Charlottetown</td>\n",
       "      <td>74 Monroe Street</td>\n",
       "      <td>C1A2V3</td>\n",
       "      <td>2001-07-25</td>\n",
       "      <td>NaN</td>\n",
       "      <td>NaN</td>\n",
       "      <td>NaN</td>\n",
       "    </tr>\n",
       "  </tbody>\n",
       "</table>\n",
       "</div>"
      ],
      "text/plain": [
       "                        Name   PhoneNumber           City  \\\n",
       "0       Thane Arthur Andrews    8675550155    Yellowknife   \n",
       "1              Ty Tiina Hume  867-555-0148    Yellowknife   \n",
       "2              Anita Travert  613-555-0111         Ottawa   \n",
       "3  Odilon Vera Ó Maoil Riain  204-555-0105       Winnipeg   \n",
       "4           Dot Cloé Jonasen   902555-0157  Charlottetown   \n",
       "\n",
       "                   Address PostalCode  BirthDate    Income  CreditLimit  \\\n",
       "0  25 West Arlington Drive     X1A3C7 1987-01-30   77569.0        500.0   \n",
       "1       214 West Maple Dr.     X1A3J6 1991-09-05  117630.0       5000.0   \n",
       "2      24 Constitution St.     K2B8E3 1952-05-02       NaN       3000.0   \n",
       "3    7941 Greenview Street     R3G2J6 1981-10-31   97911.0       4000.0   \n",
       "4         74 Monroe Street     C1A2V3 2001-07-25       NaN          NaN   \n",
       "\n",
       "  MaritalStatus  \n",
       "0        Single  \n",
       "1      Divorced  \n",
       "2       Married  \n",
       "3      Divorced  \n",
       "4           NaN  "
      ]
     },
     "execution_count": 150,
     "metadata": {},
     "output_type": "execute_result"
    }
   ],
   "source": [
    "df.head()"
   ]
  },
  {
   "cell_type": "code",
   "execution_count": 151,
   "metadata": {},
   "outputs": [
    {
     "name": "stdout",
     "output_type": "stream",
     "text": [
      "<class 'pandas.core.frame.DataFrame'>\n",
      "RangeIndex: 30 entries, 0 to 29\n",
      "Data columns (total 9 columns):\n",
      " #   Column         Non-Null Count  Dtype         \n",
      "---  ------         --------------  -----         \n",
      " 0   Name           30 non-null     object        \n",
      " 1   PhoneNumber    30 non-null     object        \n",
      " 2   City           30 non-null     object        \n",
      " 3   Address        30 non-null     object        \n",
      " 4   PostalCode     30 non-null     object        \n",
      " 5   BirthDate      30 non-null     datetime64[ns]\n",
      " 6   Income         26 non-null     float64       \n",
      " 7   CreditLimit    29 non-null     float64       \n",
      " 8   MaritalStatus  24 non-null     object        \n",
      "dtypes: datetime64[ns](1), float64(2), object(6)\n",
      "memory usage: 2.2+ KB\n"
     ]
    }
   ],
   "source": [
    "df.info()"
   ]
  },
  {
   "cell_type": "code",
   "execution_count": 152,
   "metadata": {},
   "outputs": [
    {
     "data": {
      "text/plain": [
       "['Charlottetown',\n",
       " 'Charlotttetownn',\n",
       " 'Ottawa',\n",
       " 'Ottawas',\n",
       " 'Toronot',\n",
       " 'Toronto',\n",
       " 'Winnipeg',\n",
       " 'Winnipegg',\n",
       " 'Yellowknife']"
      ]
     },
     "execution_count": 152,
     "metadata": {},
     "output_type": "execute_result"
    }
   ],
   "source": [
    "# anytime you're working with categorical data, check the unique values to see if any spelling mistakes and also for a sense of what data is available\n",
    "sorted(df['City'].unique())"
   ]
  },
  {
   "cell_type": "code",
   "execution_count": 153,
   "metadata": {},
   "outputs": [
    {
     "data": {
      "text/plain": [
       "array(['Single', 'Divorced', 'Married', nan], dtype=object)"
      ]
     },
     "execution_count": 153,
     "metadata": {},
     "output_type": "execute_result"
    }
   ],
   "source": [
    "df['MaritalStatus'].unique()"
   ]
  },
  {
   "cell_type": "code",
   "execution_count": 154,
   "metadata": {},
   "outputs": [],
   "source": [
    "# we can use the replace function to replace mistakes\n",
    "df['City'] = df['City'].replace('Charlotttetownn', 'Charlottetown')"
   ]
  },
  {
   "cell_type": "code",
   "execution_count": 155,
   "metadata": {},
   "outputs": [
    {
     "data": {
      "text/plain": [
       "['Charlottetown',\n",
       " 'Ottawa',\n",
       " 'Ottawas',\n",
       " 'Toronot',\n",
       " 'Toronto',\n",
       " 'Winnipeg',\n",
       " 'Winnipegg',\n",
       " 'Yellowknife']"
      ]
     },
     "execution_count": 155,
     "metadata": {},
     "output_type": "execute_result"
    }
   ],
   "source": [
    "sorted(df['City'].unique())"
   ]
  },
  {
   "cell_type": "code",
   "execution_count": 156,
   "metadata": {},
   "outputs": [],
   "source": [
    "# instead of using replace, we can use map()\n",
    "# when using map() you need to include everything, even the correct spellings\n",
    "corrections_dict = {'Ottawa':'Ottawa',\n",
    "                    'Ottawas':'Ottawa',\n",
    "                    'Toronot':'Toronto',\n",
    "                    'Toronto':'Toronto',\n",
    "                    'Winnipeg':'Winnipeg',\n",
    "                    'Winnipegg':'Winnipeg',\n",
    "                    'Yellowknife':'Yellowknife',\n",
    "                    'Charlottetown':'Charlottetown'}"
   ]
  },
  {
   "cell_type": "code",
   "execution_count": 157,
   "metadata": {},
   "outputs": [],
   "source": [
    "df['City'] = df['City'].map(corrections_dict)"
   ]
  },
  {
   "cell_type": "code",
   "execution_count": 158,
   "metadata": {},
   "outputs": [
    {
     "data": {
      "text/plain": [
       "array(['Yellowknife', 'Ottawa', 'Winnipeg', 'Charlottetown', 'Toronto'],\n",
       "      dtype=object)"
      ]
     },
     "execution_count": 158,
     "metadata": {},
     "output_type": "execute_result"
    }
   ],
   "source": [
    "df.City.unique()"
   ]
  },
  {
   "cell_type": "code",
   "execution_count": 175,
   "metadata": {},
   "outputs": [],
   "source": [
    "df['Contact'] = df[['BirthDate']].applymap(lambda x: 'Contact' if x.year > 1995 else 'Do not contact')"
   ]
  },
  {
   "cell_type": "code",
   "execution_count": 177,
   "metadata": {},
   "outputs": [],
   "source": [
    "df['BirthYear'] = df['BirthDate'].apply(lambda x: x.year)"
   ]
  },
  {
   "cell_type": "code",
   "execution_count": 178,
   "metadata": {},
   "outputs": [
    {
     "data": {
      "text/html": [
       "<div>\n",
       "<style scoped>\n",
       "    .dataframe tbody tr th:only-of-type {\n",
       "        vertical-align: middle;\n",
       "    }\n",
       "\n",
       "    .dataframe tbody tr th {\n",
       "        vertical-align: top;\n",
       "    }\n",
       "\n",
       "    .dataframe thead th {\n",
       "        text-align: right;\n",
       "    }\n",
       "</style>\n",
       "<table border=\"1\" class=\"dataframe\">\n",
       "  <thead>\n",
       "    <tr style=\"text-align: right;\">\n",
       "      <th></th>\n",
       "      <th>Name</th>\n",
       "      <th>PhoneNumber</th>\n",
       "      <th>City</th>\n",
       "      <th>Address</th>\n",
       "      <th>PostalCode</th>\n",
       "      <th>BirthDate</th>\n",
       "      <th>Income</th>\n",
       "      <th>CreditLimit</th>\n",
       "      <th>MaritalStatus</th>\n",
       "      <th>BirthYear</th>\n",
       "      <th>Contact</th>\n",
       "    </tr>\n",
       "  </thead>\n",
       "  <tbody>\n",
       "    <tr>\n",
       "      <th>0</th>\n",
       "      <td>Thane Arthur Andrews</td>\n",
       "      <td>8675550155</td>\n",
       "      <td>Yellowknife</td>\n",
       "      <td>25 West Arlington Drive</td>\n",
       "      <td>X1A3C7</td>\n",
       "      <td>1987-01-30</td>\n",
       "      <td>77569.0</td>\n",
       "      <td>500.0</td>\n",
       "      <td>Single</td>\n",
       "      <td>1987</td>\n",
       "      <td>Do not contact</td>\n",
       "    </tr>\n",
       "    <tr>\n",
       "      <th>1</th>\n",
       "      <td>Ty Tiina Hume</td>\n",
       "      <td>867-555-0148</td>\n",
       "      <td>Yellowknife</td>\n",
       "      <td>214 West Maple Dr.</td>\n",
       "      <td>X1A3J6</td>\n",
       "      <td>1991-09-05</td>\n",
       "      <td>117630.0</td>\n",
       "      <td>5000.0</td>\n",
       "      <td>Divorced</td>\n",
       "      <td>1991</td>\n",
       "      <td>Do not contact</td>\n",
       "    </tr>\n",
       "    <tr>\n",
       "      <th>2</th>\n",
       "      <td>Anita Travert</td>\n",
       "      <td>613-555-0111</td>\n",
       "      <td>Ottawa</td>\n",
       "      <td>24 Constitution St.</td>\n",
       "      <td>K2B8E3</td>\n",
       "      <td>1952-05-02</td>\n",
       "      <td>NaN</td>\n",
       "      <td>3000.0</td>\n",
       "      <td>Married</td>\n",
       "      <td>1952</td>\n",
       "      <td>Do not contact</td>\n",
       "    </tr>\n",
       "    <tr>\n",
       "      <th>3</th>\n",
       "      <td>Odilon Vera Ó Maoil Riain</td>\n",
       "      <td>204-555-0105</td>\n",
       "      <td>Winnipeg</td>\n",
       "      <td>7941 Greenview Street</td>\n",
       "      <td>R3G2J6</td>\n",
       "      <td>1981-10-31</td>\n",
       "      <td>97911.0</td>\n",
       "      <td>4000.0</td>\n",
       "      <td>Divorced</td>\n",
       "      <td>1981</td>\n",
       "      <td>Do not contact</td>\n",
       "    </tr>\n",
       "    <tr>\n",
       "      <th>4</th>\n",
       "      <td>Dot Cloé Jonasen</td>\n",
       "      <td>902555-0157</td>\n",
       "      <td>Charlottetown</td>\n",
       "      <td>74 Monroe Street</td>\n",
       "      <td>C1A2V3</td>\n",
       "      <td>2001-07-25</td>\n",
       "      <td>NaN</td>\n",
       "      <td>NaN</td>\n",
       "      <td>NaN</td>\n",
       "      <td>2001</td>\n",
       "      <td>Contact</td>\n",
       "    </tr>\n",
       "  </tbody>\n",
       "</table>\n",
       "</div>"
      ],
      "text/plain": [
       "                        Name   PhoneNumber           City  \\\n",
       "0       Thane Arthur Andrews    8675550155    Yellowknife   \n",
       "1              Ty Tiina Hume  867-555-0148    Yellowknife   \n",
       "2              Anita Travert  613-555-0111         Ottawa   \n",
       "3  Odilon Vera Ó Maoil Riain  204-555-0105       Winnipeg   \n",
       "4           Dot Cloé Jonasen   902555-0157  Charlottetown   \n",
       "\n",
       "                   Address PostalCode  BirthDate    Income  CreditLimit  \\\n",
       "0  25 West Arlington Drive     X1A3C7 1987-01-30   77569.0        500.0   \n",
       "1       214 West Maple Dr.     X1A3J6 1991-09-05  117630.0       5000.0   \n",
       "2      24 Constitution St.     K2B8E3 1952-05-02       NaN       3000.0   \n",
       "3    7941 Greenview Street     R3G2J6 1981-10-31   97911.0       4000.0   \n",
       "4         74 Monroe Street     C1A2V3 2001-07-25       NaN          NaN   \n",
       "\n",
       "  MaritalStatus  BirthYear         Contact  \n",
       "0        Single       1987  Do not contact  \n",
       "1      Divorced       1991  Do not contact  \n",
       "2       Married       1952  Do not contact  \n",
       "3      Divorced       1981  Do not contact  \n",
       "4           NaN       2001         Contact  "
      ]
     },
     "execution_count": 178,
     "metadata": {},
     "output_type": "execute_result"
    }
   ],
   "source": [
    "df.head()"
   ]
  },
  {
   "cell_type": "code",
   "execution_count": 186,
   "metadata": {},
   "outputs": [
    {
     "data": {
      "text/html": [
       "<div>\n",
       "<style scoped>\n",
       "    .dataframe tbody tr th:only-of-type {\n",
       "        vertical-align: middle;\n",
       "    }\n",
       "\n",
       "    .dataframe tbody tr th {\n",
       "        vertical-align: top;\n",
       "    }\n",
       "\n",
       "    .dataframe thead th {\n",
       "        text-align: right;\n",
       "    }\n",
       "</style>\n",
       "<table border=\"1\" class=\"dataframe\">\n",
       "  <thead>\n",
       "    <tr style=\"text-align: right;\">\n",
       "      <th></th>\n",
       "      <th>Name</th>\n",
       "      <th>PhoneNumber</th>\n",
       "      <th>City</th>\n",
       "      <th>Address</th>\n",
       "      <th>PostalCode</th>\n",
       "      <th>BirthDate</th>\n",
       "      <th>Income</th>\n",
       "      <th>CreditLimit</th>\n",
       "      <th>MaritalStatus</th>\n",
       "      <th>BirthYear</th>\n",
       "      <th>Contact</th>\n",
       "    </tr>\n",
       "    <tr>\n",
       "      <th>City</th>\n",
       "      <th></th>\n",
       "      <th></th>\n",
       "      <th></th>\n",
       "      <th></th>\n",
       "      <th></th>\n",
       "      <th></th>\n",
       "      <th></th>\n",
       "      <th></th>\n",
       "      <th></th>\n",
       "      <th></th>\n",
       "      <th></th>\n",
       "    </tr>\n",
       "  </thead>\n",
       "  <tbody>\n",
       "    <tr>\n",
       "      <th>Charlottetown</th>\n",
       "      <td>0</td>\n",
       "      <td>0</td>\n",
       "      <td>0</td>\n",
       "      <td>0</td>\n",
       "      <td>0</td>\n",
       "      <td>0</td>\n",
       "      <td>2</td>\n",
       "      <td>1</td>\n",
       "      <td>3</td>\n",
       "      <td>0</td>\n",
       "      <td>0</td>\n",
       "    </tr>\n",
       "    <tr>\n",
       "      <th>Ottawa</th>\n",
       "      <td>0</td>\n",
       "      <td>0</td>\n",
       "      <td>0</td>\n",
       "      <td>0</td>\n",
       "      <td>0</td>\n",
       "      <td>0</td>\n",
       "      <td>1</td>\n",
       "      <td>0</td>\n",
       "      <td>3</td>\n",
       "      <td>0</td>\n",
       "      <td>0</td>\n",
       "    </tr>\n",
       "    <tr>\n",
       "      <th>Toronto</th>\n",
       "      <td>0</td>\n",
       "      <td>0</td>\n",
       "      <td>0</td>\n",
       "      <td>0</td>\n",
       "      <td>0</td>\n",
       "      <td>0</td>\n",
       "      <td>1</td>\n",
       "      <td>0</td>\n",
       "      <td>0</td>\n",
       "      <td>0</td>\n",
       "      <td>0</td>\n",
       "    </tr>\n",
       "    <tr>\n",
       "      <th>Winnipeg</th>\n",
       "      <td>0</td>\n",
       "      <td>0</td>\n",
       "      <td>0</td>\n",
       "      <td>0</td>\n",
       "      <td>0</td>\n",
       "      <td>0</td>\n",
       "      <td>0</td>\n",
       "      <td>0</td>\n",
       "      <td>0</td>\n",
       "      <td>0</td>\n",
       "      <td>0</td>\n",
       "    </tr>\n",
       "    <tr>\n",
       "      <th>Yellowknife</th>\n",
       "      <td>0</td>\n",
       "      <td>0</td>\n",
       "      <td>0</td>\n",
       "      <td>0</td>\n",
       "      <td>0</td>\n",
       "      <td>0</td>\n",
       "      <td>0</td>\n",
       "      <td>0</td>\n",
       "      <td>0</td>\n",
       "      <td>0</td>\n",
       "      <td>0</td>\n",
       "    </tr>\n",
       "  </tbody>\n",
       "</table>\n",
       "</div>"
      ],
      "text/plain": [
       "               Name  PhoneNumber  City  Address  PostalCode  BirthDate  \\\n",
       "City                                                                     \n",
       "Charlottetown     0            0     0        0           0          0   \n",
       "Ottawa            0            0     0        0           0          0   \n",
       "Toronto           0            0     0        0           0          0   \n",
       "Winnipeg          0            0     0        0           0          0   \n",
       "Yellowknife       0            0     0        0           0          0   \n",
       "\n",
       "               Income  CreditLimit  MaritalStatus  BirthYear  Contact  \n",
       "City                                                                   \n",
       "Charlottetown       2            1              3          0        0  \n",
       "Ottawa              1            0              3          0        0  \n",
       "Toronto             1            0              0          0        0  \n",
       "Winnipeg            0            0              0          0        0  \n",
       "Yellowknife         0            0              0          0        0  "
      ]
     },
     "execution_count": 186,
     "metadata": {},
     "output_type": "execute_result"
    }
   ],
   "source": [
    "# now we can analyze the missing data and see if there are any patterns\n",
    "\n",
    "df.groupby('City').apply(lambda x: x.isnull().sum())"
   ]
  },
  {
   "cell_type": "code",
   "execution_count": null,
   "metadata": {},
   "outputs": [],
   "source": []
  }
 ],
 "metadata": {
  "kernelspec": {
   "display_name": "Python 3",
   "language": "python",
   "name": "python3"
  },
  "language_info": {
   "codemirror_mode": {
    "name": "ipython",
    "version": 3
   },
   "file_extension": ".py",
   "mimetype": "text/x-python",
   "name": "python",
   "nbconvert_exporter": "python",
   "pygments_lexer": "ipython3",
   "version": "3.11.4"
  }
 },
 "nbformat": 4,
 "nbformat_minor": 2
}
