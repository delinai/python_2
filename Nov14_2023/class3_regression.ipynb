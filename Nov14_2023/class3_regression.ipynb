{
 "cells": [
  {
   "cell_type": "code",
   "execution_count": 4,
   "metadata": {},
   "outputs": [],
   "source": [
    "import pandas as pd\n",
    "import matplotlib.pyplot as plt\n",
    "import seaborn as sns\n",
    "import statsmodels.api as sm\n"
   ]
  },
  {
   "cell_type": "code",
   "execution_count": 2,
   "metadata": {},
   "outputs": [],
   "source": [
    "df = pd.read_csv('https://raw.githubusercontent.com/delinai/schulich_ds1/main/Datasets/kc_house_data.csv')\n"
   ]
  },
  {
   "cell_type": "code",
   "execution_count": 6,
   "metadata": {},
   "outputs": [
    {
     "data": {
      "text/plain": [
       "Index(['id', 'date', 'price', 'bedrooms', 'bathrooms', 'sqft_living',\n",
       "       'sqft_lot', 'floors', 'waterfront', 'view', 'condition', 'grade',\n",
       "       'sqft_above', 'sqft_basement', 'yr_built', 'yr_renovated', 'zipcode',\n",
       "       'lat', 'long', 'sqft_living15', 'sqft_lot15'],\n",
       "      dtype='object')"
      ]
     },
     "execution_count": 6,
     "metadata": {},
     "output_type": "execute_result"
    }
   ],
   "source": [
    "df.columns"
   ]
  },
  {
   "cell_type": "code",
   "execution_count": 9,
   "metadata": {},
   "outputs": [
    {
     "name": "stdout",
     "output_type": "stream",
     "text": [
      "<class 'pandas.core.frame.DataFrame'>\n",
      "RangeIndex: 21613 entries, 0 to 21612\n",
      "Data columns (total 21 columns):\n",
      " #   Column         Non-Null Count  Dtype  \n",
      "---  ------         --------------  -----  \n",
      " 0   id             21613 non-null  int64  \n",
      " 1   date           21613 non-null  object \n",
      " 2   price          21613 non-null  float64\n",
      " 3   bedrooms       21613 non-null  int64  \n",
      " 4   bathrooms      21613 non-null  float64\n",
      " 5   sqft_living    21613 non-null  int64  \n",
      " 6   sqft_lot       21613 non-null  int64  \n",
      " 7   floors         21613 non-null  float64\n",
      " 8   waterfront     21613 non-null  int64  \n",
      " 9   view           21613 non-null  int64  \n",
      " 10  condition      21613 non-null  int64  \n",
      " 11  grade          21613 non-null  int64  \n",
      " 12  sqft_above     21613 non-null  int64  \n",
      " 13  sqft_basement  21613 non-null  int64  \n",
      " 14  yr_built       21613 non-null  int64  \n",
      " 15  yr_renovated   21613 non-null  int64  \n",
      " 16  zipcode        21613 non-null  int64  \n",
      " 17  lat            21613 non-null  float64\n",
      " 18  long           21613 non-null  float64\n",
      " 19  sqft_living15  21613 non-null  int64  \n",
      " 20  sqft_lot15     21613 non-null  int64  \n",
      "dtypes: float64(5), int64(15), object(1)\n",
      "memory usage: 3.5+ MB\n"
     ]
    }
   ],
   "source": [
    "df.info()"
   ]
  },
  {
   "cell_type": "code",
   "execution_count": 7,
   "metadata": {},
   "outputs": [],
   "source": [
    "X = df[['bedrooms', 'bathrooms', 'sqft_living',\n",
    "       'sqft_lot', 'floors', 'waterfront', 'view', 'condition', 'grade',\n",
    "       'sqft_above', 'sqft_basement', 'yr_built', 'yr_renovated']]\n",
    "Y = df['price']"
   ]
  },
  {
   "cell_type": "code",
   "execution_count": 10,
   "metadata": {},
   "outputs": [],
   "source": [
    "X = sm.add_constant(X)"
   ]
  },
  {
   "cell_type": "code",
   "execution_count": 12,
   "metadata": {},
   "outputs": [],
   "source": [
    "model = sm.OLS(Y,X)"
   ]
  },
  {
   "cell_type": "code",
   "execution_count": 16,
   "metadata": {},
   "outputs": [],
   "source": [
    "# train the model\n",
    "res = model.fit()"
   ]
  },
  {
   "cell_type": "code",
   "execution_count": 17,
   "metadata": {},
   "outputs": [
    {
     "name": "stdout",
     "output_type": "stream",
     "text": [
      "                            OLS Regression Results                            \n",
      "==============================================================================\n",
      "Dep. Variable:                  price   R-squared:                       0.652\n",
      "Model:                            OLS   Adj. R-squared:                  0.652\n",
      "Method:                 Least Squares   F-statistic:                     3377.\n",
      "Date:                Thu, 23 Nov 2023   Prob (F-statistic):               0.00\n",
      "Time:                        20:12:46   Log-Likelihood:            -2.9619e+05\n",
      "No. Observations:               21613   AIC:                         5.924e+05\n",
      "Df Residuals:                   21600   BIC:                         5.925e+05\n",
      "Df Model:                          12                                         \n",
      "Covariance Type:            nonrobust                                         \n",
      "=================================================================================\n",
      "                    coef    std err          t      P>|t|      [0.025      0.975]\n",
      "---------------------------------------------------------------------------------\n",
      "const          6.193e+06   1.38e+05     44.756      0.000    5.92e+06    6.46e+06\n",
      "bedrooms       -3.88e+04   2028.720    -19.123      0.000   -4.28e+04   -3.48e+04\n",
      "bathrooms       4.57e+04   3496.125     13.072      0.000    3.88e+04    5.26e+04\n",
      "sqft_living     113.9178      2.284     49.876      0.000     109.441     118.395\n",
      "sqft_lot         -0.2556      0.037     -6.977      0.000      -0.327      -0.184\n",
      "floors         2.437e+04   3739.383      6.516      0.000     1.7e+04    3.17e+04\n",
      "waterfront      5.74e+05   1.87e+04     30.754      0.000    5.37e+05    6.11e+05\n",
      "view            4.52e+04   2257.552     20.023      0.000    4.08e+04    4.96e+04\n",
      "condition      1.881e+04   2500.809      7.522      0.000    1.39e+04    2.37e+04\n",
      "grade          1.244e+05   2166.319     57.419      0.000     1.2e+05    1.29e+05\n",
      "sqft_above       56.1484      2.186     25.682      0.000      51.863      60.434\n",
      "sqft_basement    57.7694      2.787     20.725      0.000      52.306      63.233\n",
      "yr_built      -3570.5332     70.927    -50.341      0.000   -3709.556   -3431.511\n",
      "yr_renovated      8.5828      3.918      2.191      0.028       0.904      16.262\n",
      "==============================================================================\n",
      "Omnibus:                    16042.246   Durbin-Watson:                   1.979\n",
      "Prob(Omnibus):                  0.000   Jarque-Bera (JB):          1108274.527\n",
      "Skew:                           2.962   Prob(JB):                         0.00\n",
      "Kurtosis:                      37.577   Cond. No.                     2.56e+17\n",
      "==============================================================================\n",
      "\n",
      "Notes:\n",
      "[1] Standard Errors assume that the covariance matrix of the errors is correctly specified.\n",
      "[2] The smallest eigenvalue is 6.42e-22. This might indicate that there are\n",
      "strong multicollinearity problems or that the design matrix is singular.\n"
     ]
    }
   ],
   "source": [
    "print(res.summary())"
   ]
  },
  {
   "cell_type": "code",
   "execution_count": 20,
   "metadata": {},
   "outputs": [
    {
     "name": "stdout",
     "output_type": "stream",
     "text": [
      "                            OLS Regression Results                            \n",
      "==============================================================================\n",
      "Dep. Variable:                  price   R-squared:                       0.278\n",
      "Model:                            OLS   Adj. R-squared:                  0.278\n",
      "Method:                 Least Squares   F-statistic:                     4154.\n",
      "Date:                Thu, 23 Nov 2023   Prob (F-statistic):               0.00\n",
      "Time:                        20:17:46   Log-Likelihood:            -3.0409e+05\n",
      "No. Observations:               21613   AIC:                         6.082e+05\n",
      "Df Residuals:                   21610   BIC:                         6.082e+05\n",
      "Df Model:                           2                                         \n",
      "Covariance Type:            nonrobust                                         \n",
      "==============================================================================\n",
      "                 coef    std err          t      P>|t|      [0.025      0.975]\n",
      "------------------------------------------------------------------------------\n",
      "const      -3.064e+04   8270.147     -3.705      0.000   -4.69e+04   -1.44e+04\n",
      "bedrooms    2.014e+04   2664.002      7.559      0.000    1.49e+04    2.54e+04\n",
      "bathrooms   2.378e+05   3217.093     73.912      0.000    2.31e+05    2.44e+05\n",
      "==============================================================================\n",
      "Omnibus:                    17367.076   Durbin-Watson:                   1.961\n",
      "Prob(Omnibus):                  0.000   Jarque-Bera (JB):           907583.419\n",
      "Skew:                           3.478   Prob(JB):                         0.00\n",
      "Kurtosis:                      33.975   Cond. No.                         16.9\n",
      "==============================================================================\n",
      "\n",
      "Notes:\n",
      "[1] Standard Errors assume that the covariance matrix of the errors is correctly specified.\n"
     ]
    }
   ],
   "source": [
    "X = df[['bedrooms', 'bathrooms']]\n",
    "Y = df['price']\n",
    "\n",
    "X = sm.add_constant(X)\n",
    "model = sm.OLS(Y,X)\n",
    "# train the model\n",
    "res = model.fit()\n",
    "print(res.summary())"
   ]
  },
  {
   "cell_type": "code",
   "execution_count": 24,
   "metadata": {},
   "outputs": [
    {
     "data": {
      "text/html": [
       "<div>\n",
       "<style scoped>\n",
       "    .dataframe tbody tr th:only-of-type {\n",
       "        vertical-align: middle;\n",
       "    }\n",
       "\n",
       "    .dataframe tbody tr th {\n",
       "        vertical-align: top;\n",
       "    }\n",
       "\n",
       "    .dataframe thead th {\n",
       "        text-align: right;\n",
       "    }\n",
       "</style>\n",
       "<table border=\"1\" class=\"dataframe\">\n",
       "  <thead>\n",
       "    <tr style=\"text-align: right;\">\n",
       "      <th></th>\n",
       "      <th>1</th>\n",
       "      <th>3</th>\n",
       "      <th>4</th>\n",
       "      <th>5</th>\n",
       "      <th>6</th>\n",
       "      <th>7</th>\n",
       "      <th>8</th>\n",
       "      <th>9</th>\n",
       "      <th>10</th>\n",
       "      <th>11</th>\n",
       "      <th>12</th>\n",
       "      <th>13</th>\n",
       "    </tr>\n",
       "  </thead>\n",
       "  <tbody>\n",
       "    <tr>\n",
       "      <th>0</th>\n",
       "      <td>0</td>\n",
       "      <td>0</td>\n",
       "      <td>0</td>\n",
       "      <td>0</td>\n",
       "      <td>0</td>\n",
       "      <td>1</td>\n",
       "      <td>0</td>\n",
       "      <td>0</td>\n",
       "      <td>0</td>\n",
       "      <td>0</td>\n",
       "      <td>0</td>\n",
       "      <td>0</td>\n",
       "    </tr>\n",
       "    <tr>\n",
       "      <th>1</th>\n",
       "      <td>0</td>\n",
       "      <td>0</td>\n",
       "      <td>0</td>\n",
       "      <td>0</td>\n",
       "      <td>0</td>\n",
       "      <td>1</td>\n",
       "      <td>0</td>\n",
       "      <td>0</td>\n",
       "      <td>0</td>\n",
       "      <td>0</td>\n",
       "      <td>0</td>\n",
       "      <td>0</td>\n",
       "    </tr>\n",
       "    <tr>\n",
       "      <th>2</th>\n",
       "      <td>0</td>\n",
       "      <td>0</td>\n",
       "      <td>0</td>\n",
       "      <td>0</td>\n",
       "      <td>1</td>\n",
       "      <td>0</td>\n",
       "      <td>0</td>\n",
       "      <td>0</td>\n",
       "      <td>0</td>\n",
       "      <td>0</td>\n",
       "      <td>0</td>\n",
       "      <td>0</td>\n",
       "    </tr>\n",
       "    <tr>\n",
       "      <th>3</th>\n",
       "      <td>0</td>\n",
       "      <td>0</td>\n",
       "      <td>0</td>\n",
       "      <td>0</td>\n",
       "      <td>0</td>\n",
       "      <td>1</td>\n",
       "      <td>0</td>\n",
       "      <td>0</td>\n",
       "      <td>0</td>\n",
       "      <td>0</td>\n",
       "      <td>0</td>\n",
       "      <td>0</td>\n",
       "    </tr>\n",
       "    <tr>\n",
       "      <th>4</th>\n",
       "      <td>0</td>\n",
       "      <td>0</td>\n",
       "      <td>0</td>\n",
       "      <td>0</td>\n",
       "      <td>0</td>\n",
       "      <td>0</td>\n",
       "      <td>1</td>\n",
       "      <td>0</td>\n",
       "      <td>0</td>\n",
       "      <td>0</td>\n",
       "      <td>0</td>\n",
       "      <td>0</td>\n",
       "    </tr>\n",
       "    <tr>\n",
       "      <th>...</th>\n",
       "      <td>...</td>\n",
       "      <td>...</td>\n",
       "      <td>...</td>\n",
       "      <td>...</td>\n",
       "      <td>...</td>\n",
       "      <td>...</td>\n",
       "      <td>...</td>\n",
       "      <td>...</td>\n",
       "      <td>...</td>\n",
       "      <td>...</td>\n",
       "      <td>...</td>\n",
       "      <td>...</td>\n",
       "    </tr>\n",
       "    <tr>\n",
       "      <th>21608</th>\n",
       "      <td>0</td>\n",
       "      <td>0</td>\n",
       "      <td>0</td>\n",
       "      <td>0</td>\n",
       "      <td>0</td>\n",
       "      <td>0</td>\n",
       "      <td>1</td>\n",
       "      <td>0</td>\n",
       "      <td>0</td>\n",
       "      <td>0</td>\n",
       "      <td>0</td>\n",
       "      <td>0</td>\n",
       "    </tr>\n",
       "    <tr>\n",
       "      <th>21609</th>\n",
       "      <td>0</td>\n",
       "      <td>0</td>\n",
       "      <td>0</td>\n",
       "      <td>0</td>\n",
       "      <td>0</td>\n",
       "      <td>0</td>\n",
       "      <td>1</td>\n",
       "      <td>0</td>\n",
       "      <td>0</td>\n",
       "      <td>0</td>\n",
       "      <td>0</td>\n",
       "      <td>0</td>\n",
       "    </tr>\n",
       "    <tr>\n",
       "      <th>21610</th>\n",
       "      <td>0</td>\n",
       "      <td>0</td>\n",
       "      <td>0</td>\n",
       "      <td>0</td>\n",
       "      <td>0</td>\n",
       "      <td>1</td>\n",
       "      <td>0</td>\n",
       "      <td>0</td>\n",
       "      <td>0</td>\n",
       "      <td>0</td>\n",
       "      <td>0</td>\n",
       "      <td>0</td>\n",
       "    </tr>\n",
       "    <tr>\n",
       "      <th>21611</th>\n",
       "      <td>0</td>\n",
       "      <td>0</td>\n",
       "      <td>0</td>\n",
       "      <td>0</td>\n",
       "      <td>0</td>\n",
       "      <td>0</td>\n",
       "      <td>1</td>\n",
       "      <td>0</td>\n",
       "      <td>0</td>\n",
       "      <td>0</td>\n",
       "      <td>0</td>\n",
       "      <td>0</td>\n",
       "    </tr>\n",
       "    <tr>\n",
       "      <th>21612</th>\n",
       "      <td>0</td>\n",
       "      <td>0</td>\n",
       "      <td>0</td>\n",
       "      <td>0</td>\n",
       "      <td>0</td>\n",
       "      <td>1</td>\n",
       "      <td>0</td>\n",
       "      <td>0</td>\n",
       "      <td>0</td>\n",
       "      <td>0</td>\n",
       "      <td>0</td>\n",
       "      <td>0</td>\n",
       "    </tr>\n",
       "  </tbody>\n",
       "</table>\n",
       "<p>21613 rows × 12 columns</p>\n",
       "</div>"
      ],
      "text/plain": [
       "       1   3   4   5   6   7   8   9   10  11  12  13\n",
       "0       0   0   0   0   0   1   0   0   0   0   0   0\n",
       "1       0   0   0   0   0   1   0   0   0   0   0   0\n",
       "2       0   0   0   0   1   0   0   0   0   0   0   0\n",
       "3       0   0   0   0   0   1   0   0   0   0   0   0\n",
       "4       0   0   0   0   0   0   1   0   0   0   0   0\n",
       "...    ..  ..  ..  ..  ..  ..  ..  ..  ..  ..  ..  ..\n",
       "21608   0   0   0   0   0   0   1   0   0   0   0   0\n",
       "21609   0   0   0   0   0   0   1   0   0   0   0   0\n",
       "21610   0   0   0   0   0   1   0   0   0   0   0   0\n",
       "21611   0   0   0   0   0   0   1   0   0   0   0   0\n",
       "21612   0   0   0   0   0   1   0   0   0   0   0   0\n",
       "\n",
       "[21613 rows x 12 columns]"
      ]
     },
     "execution_count": 24,
     "metadata": {},
     "output_type": "execute_result"
    }
   ],
   "source": [
    "grade_dummies = pd.get_dummies(df['grade'], dtype=int)\n",
    "grade_dummies"
   ]
  },
  {
   "cell_type": "code",
   "execution_count": 26,
   "metadata": {},
   "outputs": [],
   "source": [
    "df_new = pd.concat([df,grade_dummies], axis=1)"
   ]
  },
  {
   "cell_type": "code",
   "execution_count": 27,
   "metadata": {},
   "outputs": [
    {
     "data": {
      "text/plain": [
       "Index([           'id',          'date',         'price',      'bedrooms',\n",
       "           'bathrooms',   'sqft_living',      'sqft_lot',        'floors',\n",
       "          'waterfront',          'view',     'condition',         'grade',\n",
       "          'sqft_above', 'sqft_basement',      'yr_built',  'yr_renovated',\n",
       "             'zipcode',           'lat',          'long', 'sqft_living15',\n",
       "          'sqft_lot15',               1,               3,               4,\n",
       "                     5,               6,               7,               8,\n",
       "                     9,              10,              11,              12,\n",
       "                    13],\n",
       "      dtype='object')"
      ]
     },
     "execution_count": 27,
     "metadata": {},
     "output_type": "execute_result"
    }
   ],
   "source": [
    "df_new.columns"
   ]
  },
  {
   "cell_type": "code",
   "execution_count": 30,
   "metadata": {},
   "outputs": [
    {
     "name": "stdout",
     "output_type": "stream",
     "text": [
      "                            OLS Regression Results                            \n",
      "==============================================================================\n",
      "Dep. Variable:                  price   R-squared:                       0.730\n",
      "Model:                            OLS   Adj. R-squared:                  0.730\n",
      "Method:                 Least Squares   F-statistic:                     2162.\n",
      "Date:                Thu, 23 Nov 2023   Prob (F-statistic):               0.00\n",
      "Time:                        20:28:03   Log-Likelihood:            -2.9345e+05\n",
      "No. Observations:               21613   AIC:                         5.870e+05\n",
      "Df Residuals:                   21585   BIC:                         5.872e+05\n",
      "Df Model:                          27                                         \n",
      "Covariance Type:            nonrobust                                         \n",
      "=================================================================================\n",
      "                    coef    std err          t      P>|t|      [0.025      0.975]\n",
      "---------------------------------------------------------------------------------\n",
      "const          7.597e+06   2.57e+06      2.953      0.003    2.55e+06    1.26e+07\n",
      "bedrooms      -1.985e+04   1834.438    -10.820      0.000   -2.34e+04   -1.63e+04\n",
      "bathrooms      4.351e+04   3099.722     14.038      0.000    3.74e+04    4.96e+04\n",
      "sqft_living      88.2628      2.201     40.100      0.000      83.949      92.577\n",
      "sqft_lot          0.1278      0.045      2.809      0.005       0.039       0.217\n",
      "floors         2.523e+04   3460.838      7.291      0.000    1.85e+04     3.2e+04\n",
      "waterfront     5.682e+05   1.65e+04     34.446      0.000    5.36e+05    6.01e+05\n",
      "view           4.863e+04   2032.717     23.925      0.000    4.46e+04    5.26e+04\n",
      "condition      3.313e+04   2237.234     14.810      0.000    2.87e+04    3.75e+04\n",
      "sqft_above       44.6643      2.219     20.127      0.000      40.315      49.014\n",
      "sqft_basement    43.5835      2.519     17.301      0.000      38.646      48.521\n",
      "yr_built      -2153.6489     69.973    -30.778      0.000   -2290.801   -2016.497\n",
      "yr_renovated     30.6089      3.479      8.798      0.000      23.790      37.428\n",
      "zipcode        -596.1075     31.354    -19.012      0.000    -657.564    -534.651\n",
      "lat            6.189e+05   1.02e+04     60.697      0.000    5.99e+05    6.39e+05\n",
      "long          -2.076e+05   1.25e+04    -16.639      0.000   -2.32e+05   -1.83e+05\n",
      "sqft_living15    27.3059      3.301      8.272      0.000      20.836      33.776\n",
      "sqft_lot15       -0.3855      0.070     -5.546      0.000      -0.522      -0.249\n",
      "1              3.468e+05   2.76e+05      1.258      0.208   -1.94e+05    8.87e+05\n",
      "3               4.02e+05   2.36e+05      1.704      0.088   -6.03e+04    8.64e+05\n",
      "4              2.201e+05   2.17e+05      1.015      0.310   -2.05e+05    6.45e+05\n",
      "5              1.918e+05   2.15e+05      0.892      0.372    -2.3e+05    6.13e+05\n",
      "6              2.148e+05   2.15e+05      0.997      0.319   -2.08e+05    6.37e+05\n",
      "7              2.535e+05   2.15e+05      1.177      0.239   -1.69e+05    6.76e+05\n",
      "8              3.128e+05   2.16e+05      1.451      0.147    -1.1e+05    7.35e+05\n",
      "9              4.334e+05   2.16e+05      2.008      0.045    1.04e+04    8.56e+05\n",
      "10             5.966e+05   2.16e+05      2.761      0.006    1.73e+05    1.02e+06\n",
      "11             8.404e+05   2.16e+05      3.884      0.000    4.16e+05    1.26e+06\n",
      "12             1.291e+06   2.17e+05      5.947      0.000    8.65e+05    1.72e+06\n",
      "13             2.494e+06   2.23e+05     11.199      0.000    2.06e+06    2.93e+06\n",
      "==============================================================================\n",
      "Omnibus:                    14451.436   Durbin-Watson:                   1.988\n",
      "Prob(Omnibus):                  0.000   Jarque-Bera (JB):           772410.282\n",
      "Skew:                           2.587   Prob(JB):                         0.00\n",
      "Kurtosis:                      31.826   Cond. No.                     1.01e+16\n",
      "==============================================================================\n",
      "\n",
      "Notes:\n",
      "[1] Standard Errors assume that the covariance matrix of the errors is correctly specified.\n",
      "[2] The smallest eigenvalue is 2.16e-18. This might indicate that there are\n",
      "strong multicollinearity problems or that the design matrix is singular.\n"
     ]
    }
   ],
   "source": [
    "X = df_new[['bedrooms','bathrooms','sqft_living','sqft_lot','floors',\n",
    "          'waterfront','view','condition', \n",
    "          'sqft_above', 'sqft_basement','yr_built',  'yr_renovated',\n",
    "             'zipcode','lat','long', 'sqft_living15',\n",
    "          'sqft_lot15',1,3,4,5,6,7,8,9,10,11,12,13]]\n",
    "Y = df_new['price']\n",
    "\n",
    "X = sm.add_constant(X)\n",
    "model = sm.OLS(Y,X)\n",
    "# train the model\n",
    "res = model.fit()\n",
    "print(res.summary())"
   ]
  },
  {
   "cell_type": "code",
   "execution_count": 43,
   "metadata": {},
   "outputs": [
    {
     "name": "stdout",
     "output_type": "stream",
     "text": [
      "30\n"
     ]
    }
   ],
   "source": [
    "print(len(res.params.to_list()))"
   ]
  },
  {
   "cell_type": "code",
   "execution_count": 35,
   "metadata": {},
   "outputs": [
    {
     "name": "stdout",
     "output_type": "stream",
     "text": [
      "const            7.597022e+06\n",
      "bedrooms        -1.984950e+04\n",
      "bathrooms        4.351300e+04\n",
      "sqft_living      8.826282e+01\n",
      "sqft_lot         1.277509e-01\n",
      "floors           2.523454e+04\n",
      "waterfront       5.682358e+05\n",
      "view             4.863291e+04\n",
      "condition        3.313236e+04\n",
      "sqft_above       4.466434e+01\n",
      "sqft_basement    4.358350e+01\n",
      "yr_built        -2.153649e+03\n",
      "yr_renovated     3.060892e+01\n",
      "zipcode         -5.961075e+02\n",
      "lat              6.188909e+05\n",
      "long            -2.076272e+05\n",
      "sqft_living15    2.730591e+01\n",
      "sqft_lot15      -3.855067e-01\n",
      "1                3.467813e+05\n",
      "3                4.019772e+05\n",
      "4                2.200862e+05\n",
      "5                1.918080e+05\n",
      "6                2.148182e+05\n",
      "7                2.534636e+05\n",
      "8                3.127919e+05\n",
      "9                4.334470e+05\n",
      "10               5.965584e+05\n",
      "11               8.404054e+05\n",
      "12               1.290767e+06\n",
      "13               2.494118e+06\n",
      "dtype: float64\n"
     ]
    }
   ],
   "source": [
    "print(res.params)"
   ]
  },
  {
   "cell_type": "code",
   "execution_count": 45,
   "metadata": {},
   "outputs": [],
   "source": [
    "predictions = res.predict(X)"
   ]
  },
  {
   "cell_type": "code",
   "execution_count": 46,
   "metadata": {},
   "outputs": [
    {
     "data": {
      "text/plain": [
       "0        204169.551563\n",
       "1        720992.301694\n",
       "2        440297.463080\n",
       "3        478702.725293\n",
       "4        400047.580964\n",
       "             ...      \n",
       "21608    495271.379916\n",
       "21609    410664.833550\n",
       "21610    173406.868856\n",
       "21611    372877.650414\n",
       "21612    175590.426041\n",
       "Length: 21613, dtype: float64"
      ]
     },
     "execution_count": 46,
     "metadata": {},
     "output_type": "execute_result"
    }
   ],
   "source": [
    "predictions"
   ]
  },
  {
   "cell_type": "code",
   "execution_count": 48,
   "metadata": {},
   "outputs": [],
   "source": [
    "with_pred = df_new.join(predictions.to_frame())"
   ]
  },
  {
   "cell_type": "code",
   "execution_count": 50,
   "metadata": {},
   "outputs": [],
   "source": [
    "with_pred['pred_vs_actual'] = with_pred[0]-with_pred['price']"
   ]
  },
  {
   "cell_type": "code",
   "execution_count": 53,
   "metadata": {},
   "outputs": [
    {
     "data": {
      "text/plain": [
       "<Axes: xlabel='pred_vs_actual', ylabel='Count'>"
      ]
     },
     "execution_count": 53,
     "metadata": {},
     "output_type": "execute_result"
    },
    {
     "data": {
      "image/png": "[encoded data removed]",
      "text/plain": [
       "<Figure size 640x480 with 1 Axes>"
      ]
     },
     "metadata": {},
     "output_type": "display_data"
    }
   ],
   "source": [
    "sns.histplot(with_pred['pred_vs_actual'])"
   ]
  },
  {
   "cell_type": "code",
   "execution_count": 54,
   "metadata": {},
   "outputs": [],
   "source": [
    "with_pred['sq_error'] = with_pred['pred_vs_actual']**2"
   ]
  },
  {
   "cell_type": "code",
   "execution_count": 55,
   "metadata": {},
   "outputs": [
    {
     "data": {
      "text/plain": [
       "190752.23692668136"
      ]
     },
     "execution_count": 55,
     "metadata": {},
     "output_type": "execute_result"
    }
   ],
   "source": [
    "np.sqrt(with_pred['sq_error'].mean())"
   ]
  },
  {
   "cell_type": "code",
   "execution_count": 56,
   "metadata": {},
   "outputs": [
    {
     "data": {
      "text/plain": [
       "0.3531867953554491"
      ]
     },
     "execution_count": 56,
     "metadata": {},
     "output_type": "execute_result"
    }
   ],
   "source": [
    "190752/with_pred['price'].mean()"
   ]
  },
  {
   "cell_type": "code",
   "execution_count": 57,
   "metadata": {},
   "outputs": [
    {
     "data": {
      "text/plain": [
       "<Axes: xlabel='bedrooms', ylabel='pred_vs_actual'>"
      ]
     },
     "execution_count": 57,
     "metadata": {},
     "output_type": "execute_result"
    },
    {
     "data": {
      "image/png": "[encoded data removed]",
      "text/plain": [
       "<Figure size 640x480 with 1 Axes>"
      ]
     },
     "metadata": {},
     "output_type": "display_data"
    }
   ],
   "source": [
    "sns.boxplot(x=with_pred['bedrooms'], y=with_pred['pred_vs_actual'])"
   ]
  },
  {
   "cell_type": "code",
   "execution_count": 58,
   "metadata": {},
   "outputs": [
    {
     "data": {
      "text/plain": [
       "<Axes: xlabel='sqft_living', ylabel='pred_vs_actual'>"
      ]
     },
     "execution_count": 58,
     "metadata": {},
     "output_type": "execute_result"
    },
    {
     "data": {
      "image/png": "[encoded data removed]",
      "text/plain": [
       "<Figure size 640x480 with 1 Axes>"
      ]
     },
     "metadata": {},
     "output_type": "display_data"
    }
   ],
   "source": [
    "sns.scatterplot(x='sqft_living', y='pred_vs_actual', data=with_pred)"
   ]
  },
  {
   "cell_type": "code",
   "execution_count": null,
   "metadata": {},
   "outputs": [],
   "source": []
  }
 ],
 "metadata": {
  "kernelspec": {
   "display_name": "Python 3",
   "language": "python",
   "name": "python3"
  },
  "language_info": {
   "codemirror_mode": {
    "name": "ipython",
    "version": 3
   },
   "file_extension": ".py",
   "mimetype": "text/x-python",
   "name": "python",
   "nbconvert_exporter": "python",
   "pygments_lexer": "ipython3",
   "version": "3.11.4"
  }
 },
 "nbformat": 4,
 "nbformat_minor": 2
}
