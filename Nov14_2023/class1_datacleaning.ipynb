{
 "cells": [
  {
   "cell_type": "code",
   "execution_count": 1,
   "metadata": {},
   "outputs": [],
   "source": [
    "import pandas as pd\n",
    "import seaborn as sns\n",
    "import matplotlib.pyplot as plt"
   ]
  },
  {
   "cell_type": "code",
   "execution_count": 2,
   "metadata": {},
   "outputs": [],
   "source": [
    "df = pd.read_csv('/Users/delinaivanova/Library/CloudStorage/OneDrive-Personal/UoT/Micro Courses/Data Science/3250 B/Module 1/MessyData.csv')"
   ]
  },
  {
   "cell_type": "code",
   "execution_count": 3,
   "metadata": {},
   "outputs": [
    {
     "data": {
      "text/html": [
       "<div>\n",
       "<style scoped>\n",
       "    .dataframe tbody tr th:only-of-type {\n",
       "        vertical-align: middle;\n",
       "    }\n",
       "\n",
       "    .dataframe tbody tr th {\n",
       "        vertical-align: top;\n",
       "    }\n",
       "\n",
       "    .dataframe thead th {\n",
       "        text-align: right;\n",
       "    }\n",
       "</style>\n",
       "<table border=\"1\" class=\"dataframe\">\n",
       "  <thead>\n",
       "    <tr style=\"text-align: right;\">\n",
       "      <th></th>\n",
       "      <th>Name</th>\n",
       "      <th>PhoneNumber</th>\n",
       "      <th>City</th>\n",
       "      <th>Address</th>\n",
       "      <th>PostalCode</th>\n",
       "      <th>BirthDate</th>\n",
       "      <th>Income</th>\n",
       "      <th>CreditLimit</th>\n",
       "      <th>MaritalStatus</th>\n",
       "    </tr>\n",
       "  </thead>\n",
       "  <tbody>\n",
       "    <tr>\n",
       "      <th>0</th>\n",
       "      <td>Thane Arthur Andrews</td>\n",
       "      <td>8675550155</td>\n",
       "      <td>Yellowknife</td>\n",
       "      <td>25 West Arlington Drive</td>\n",
       "      <td>X1A3C7</td>\n",
       "      <td>30-Jan-87</td>\n",
       "      <td>77569.0</td>\n",
       "      <td>500</td>\n",
       "      <td>Single</td>\n",
       "    </tr>\n",
       "    <tr>\n",
       "      <th>1</th>\n",
       "      <td>Ty Tiina Hume</td>\n",
       "      <td>867-555-0148</td>\n",
       "      <td>Yellowknife</td>\n",
       "      <td>214 West Maple Dr.</td>\n",
       "      <td>X1A3J6</td>\n",
       "      <td>05-Sep-91</td>\n",
       "      <td>117630.0</td>\n",
       "      <td>5000</td>\n",
       "      <td>Divorced</td>\n",
       "    </tr>\n",
       "    <tr>\n",
       "      <th>2</th>\n",
       "      <td>Anita Travert</td>\n",
       "      <td>613-555-0111</td>\n",
       "      <td>Ottawa</td>\n",
       "      <td>24 Constitution St.</td>\n",
       "      <td>K2B8E3</td>\n",
       "      <td>02-May-52</td>\n",
       "      <td>NaN</td>\n",
       "      <td>3000</td>\n",
       "      <td>Married</td>\n",
       "    </tr>\n",
       "    <tr>\n",
       "      <th>3</th>\n",
       "      <td>Odilon Vera Ó Maoil Riain</td>\n",
       "      <td>204-555-0105</td>\n",
       "      <td>Winnipeg</td>\n",
       "      <td>7941 Greenview Street</td>\n",
       "      <td>R3G2J6</td>\n",
       "      <td>31-Oct-81</td>\n",
       "      <td>97911.0</td>\n",
       "      <td>4000</td>\n",
       "      <td>Divorced</td>\n",
       "    </tr>\n",
       "    <tr>\n",
       "      <th>4</th>\n",
       "      <td>Dot Cloé Jonasen</td>\n",
       "      <td>902555-0157</td>\n",
       "      <td>Charlottetown</td>\n",
       "      <td>74 Monroe Street</td>\n",
       "      <td>C1A2V3</td>\n",
       "      <td>25-Jul-01</td>\n",
       "      <td>NaN</td>\n",
       "      <td>high</td>\n",
       "      <td>NaN</td>\n",
       "    </tr>\n",
       "  </tbody>\n",
       "</table>\n",
       "</div>"
      ],
      "text/plain": [
       "                        Name   PhoneNumber           City  \\\n",
       "0       Thane Arthur Andrews    8675550155    Yellowknife   \n",
       "1              Ty Tiina Hume  867-555-0148    Yellowknife   \n",
       "2              Anita Travert  613-555-0111         Ottawa   \n",
       "3  Odilon Vera Ó Maoil Riain  204-555-0105       Winnipeg   \n",
       "4           Dot Cloé Jonasen   902555-0157  Charlottetown   \n",
       "\n",
       "                   Address PostalCode  BirthDate    Income CreditLimit  \\\n",
       "0  25 West Arlington Drive     X1A3C7  30-Jan-87   77569.0         500   \n",
       "1       214 West Maple Dr.     X1A3J6  05-Sep-91  117630.0        5000   \n",
       "2      24 Constitution St.     K2B8E3  02-May-52       NaN        3000   \n",
       "3    7941 Greenview Street     R3G2J6  31-Oct-81   97911.0        4000   \n",
       "4         74 Monroe Street     C1A2V3  25-Jul-01       NaN        high   \n",
       "\n",
       "  MaritalStatus  \n",
       "0        Single  \n",
       "1      Divorced  \n",
       "2       Married  \n",
       "3      Divorced  \n",
       "4           NaN  "
      ]
     },
     "execution_count": 3,
     "metadata": {},
     "output_type": "execute_result"
    }
   ],
   "source": [
    "df.head()"
   ]
  },
  {
   "cell_type": "code",
   "execution_count": 4,
   "metadata": {},
   "outputs": [
    {
     "name": "stdout",
     "output_type": "stream",
     "text": [
      "<class 'pandas.core.frame.DataFrame'>\n",
      "RangeIndex: 30 entries, 0 to 29\n",
      "Data columns (total 9 columns):\n",
      " #   Column         Non-Null Count  Dtype  \n",
      "---  ------         --------------  -----  \n",
      " 0   Name           30 non-null     object \n",
      " 1   PhoneNumber    30 non-null     object \n",
      " 2   City           30 non-null     object \n",
      " 3   Address        30 non-null     object \n",
      " 4   PostalCode     30 non-null     object \n",
      " 5   BirthDate      30 non-null     object \n",
      " 6   Income         26 non-null     float64\n",
      " 7   CreditLimit    30 non-null     object \n",
      " 8   MaritalStatus  24 non-null     object \n",
      "dtypes: float64(1), object(8)\n",
      "memory usage: 2.2+ KB\n"
     ]
    }
   ],
   "source": [
    "df.info()"
   ]
  },
  {
   "cell_type": "code",
   "execution_count": 6,
   "metadata": {},
   "outputs": [
    {
     "data": {
      "text/plain": [
       "10"
      ]
     },
     "execution_count": 6,
     "metadata": {},
     "output_type": "execute_result"
    }
   ],
   "source": [
    "# count total number of missing values\n",
    "df.isnull().sum().sum()"
   ]
  },
  {
   "cell_type": "code",
   "execution_count": 8,
   "metadata": {},
   "outputs": [
    {
     "data": {
      "text/plain": [
       "(30, 9)"
      ]
     },
     "execution_count": 8,
     "metadata": {},
     "output_type": "execute_result"
    }
   ],
   "source": [
    "df.shape"
   ]
  },
  {
   "cell_type": "code",
   "execution_count": 9,
   "metadata": {},
   "outputs": [
    {
     "data": {
      "text/plain": [
       "270"
      ]
     },
     "execution_count": 9,
     "metadata": {},
     "output_type": "execute_result"
    }
   ],
   "source": [
    "# calculate total number of data points in data frame\n",
    "df.shape[0] * df.shape[1]"
   ]
  },
  {
   "cell_type": "code",
   "execution_count": 10,
   "metadata": {},
   "outputs": [
    {
     "data": {
      "text/plain": [
       "0.037037037037037035"
      ]
     },
     "execution_count": 10,
     "metadata": {},
     "output_type": "execute_result"
    }
   ],
   "source": [
    "# calculate % of missing values\n",
    "\n",
    "df.isnull().sum().sum() / (df.shape[0]*df.shape[1])"
   ]
  },
  {
   "cell_type": "code",
   "execution_count": 12,
   "metadata": {},
   "outputs": [
    {
     "data": {
      "text/plain": [
       "Name             0.000000\n",
       "PhoneNumber      0.000000\n",
       "City             0.000000\n",
       "Address          0.000000\n",
       "PostalCode       0.000000\n",
       "BirthDate        0.000000\n",
       "Income           0.133333\n",
       "CreditLimit      0.000000\n",
       "MaritalStatus    0.200000\n",
       "dtype: float64"
      ]
     },
     "execution_count": 12,
     "metadata": {},
     "output_type": "execute_result"
    }
   ],
   "source": [
    "# calculate % of missing data by column\n",
    "df.isnull().sum() / df.shape[0]"
   ]
  },
  {
   "cell_type": "code",
   "execution_count": 14,
   "metadata": {},
   "outputs": [
    {
     "name": "stdout",
     "output_type": "stream",
     "text": [
      "<class 'pandas.core.frame.DataFrame'>\n",
      "Index: 21 entries, 0 to 28\n",
      "Data columns (total 9 columns):\n",
      " #   Column         Non-Null Count  Dtype  \n",
      "---  ------         --------------  -----  \n",
      " 0   Name           21 non-null     object \n",
      " 1   PhoneNumber    21 non-null     object \n",
      " 2   City           21 non-null     object \n",
      " 3   Address        21 non-null     object \n",
      " 4   PostalCode     21 non-null     object \n",
      " 5   BirthDate      21 non-null     object \n",
      " 6   Income         21 non-null     float64\n",
      " 7   CreditLimit    21 non-null     object \n",
      " 8   MaritalStatus  21 non-null     object \n",
      "dtypes: float64(1), object(8)\n",
      "memory usage: 1.6+ KB\n"
     ]
    }
   ],
   "source": [
    "# we can check quickly what would happen if we drop all data - we see we would be left with only 21 observations\n",
    "df.dropna().info()"
   ]
  },
  {
   "cell_type": "code",
   "execution_count": 23,
   "metadata": {},
   "outputs": [],
   "source": [
    "df['CreditLimit'] = pd.to_numeric(df['CreditLimit'], errors='coerce')"
   ]
  },
  {
   "cell_type": "code",
   "execution_count": 55,
   "metadata": {},
   "outputs": [],
   "source": [
    "# find values with text only\n",
    "df2 = pd.read_csv('/Users/delinaivanova/Library/CloudStorage/OneDrive-Personal/UoT/Micro Courses/Data Science/3250 B/Module 1/MessyData.csv')\n",
    "text_only = df2[df2['CreditLimit'].str.isalpha()]\n"
   ]
  },
  {
   "cell_type": "code",
   "execution_count": 56,
   "metadata": {},
   "outputs": [
    {
     "data": {
      "text/html": [
       "<div>\n",
       "<style scoped>\n",
       "    .dataframe tbody tr th:only-of-type {\n",
       "        vertical-align: middle;\n",
       "    }\n",
       "\n",
       "    .dataframe tbody tr th {\n",
       "        vertical-align: top;\n",
       "    }\n",
       "\n",
       "    .dataframe thead th {\n",
       "        text-align: right;\n",
       "    }\n",
       "</style>\n",
       "<table border=\"1\" class=\"dataframe\">\n",
       "  <thead>\n",
       "    <tr style=\"text-align: right;\">\n",
       "      <th></th>\n",
       "      <th>Name</th>\n",
       "      <th>PhoneNumber</th>\n",
       "      <th>City</th>\n",
       "      <th>Address</th>\n",
       "      <th>PostalCode</th>\n",
       "      <th>BirthDate</th>\n",
       "      <th>Income</th>\n",
       "      <th>CreditLimit</th>\n",
       "      <th>MaritalStatus</th>\n",
       "    </tr>\n",
       "  </thead>\n",
       "  <tbody>\n",
       "    <tr>\n",
       "      <th>4</th>\n",
       "      <td>Dot Cloé Jonasen</td>\n",
       "      <td>902555-0157</td>\n",
       "      <td>Charlottetown</td>\n",
       "      <td>74 Monroe Street</td>\n",
       "      <td>C1A2V3</td>\n",
       "      <td>25-Jul-01</td>\n",
       "      <td>NaN</td>\n",
       "      <td>high</td>\n",
       "      <td>NaN</td>\n",
       "    </tr>\n",
       "  </tbody>\n",
       "</table>\n",
       "</div>"
      ],
      "text/plain": [
       "               Name  PhoneNumber           City           Address PostalCode  \\\n",
       "4  Dot Cloé Jonasen  902555-0157  Charlottetown  74 Monroe Street     C1A2V3   \n",
       "\n",
       "   BirthDate  Income CreditLimit MaritalStatus  \n",
       "4  25-Jul-01     NaN        high           NaN  "
      ]
     },
     "execution_count": 56,
     "metadata": {},
     "output_type": "execute_result"
    }
   ],
   "source": [
    "text_only"
   ]
  },
  {
   "cell_type": "code",
   "execution_count": 24,
   "metadata": {},
   "outputs": [
    {
     "data": {
      "text/html": [
       "<div>\n",
       "<style scoped>\n",
       "    .dataframe tbody tr th:only-of-type {\n",
       "        vertical-align: middle;\n",
       "    }\n",
       "\n",
       "    .dataframe tbody tr th {\n",
       "        vertical-align: top;\n",
       "    }\n",
       "\n",
       "    .dataframe thead th {\n",
       "        text-align: right;\n",
       "    }\n",
       "</style>\n",
       "<table border=\"1\" class=\"dataframe\">\n",
       "  <thead>\n",
       "    <tr style=\"text-align: right;\">\n",
       "      <th></th>\n",
       "      <th>Name</th>\n",
       "      <th>PhoneNumber</th>\n",
       "      <th>City</th>\n",
       "      <th>Address</th>\n",
       "      <th>PostalCode</th>\n",
       "      <th>BirthDate</th>\n",
       "      <th>Income</th>\n",
       "      <th>CreditLimit</th>\n",
       "      <th>MaritalStatus</th>\n",
       "    </tr>\n",
       "  </thead>\n",
       "  <tbody>\n",
       "    <tr>\n",
       "      <th>0</th>\n",
       "      <td>Thane Arthur Andrews</td>\n",
       "      <td>8675550155</td>\n",
       "      <td>Yellowknife</td>\n",
       "      <td>25 West Arlington Drive</td>\n",
       "      <td>X1A3C7</td>\n",
       "      <td>30-Jan-87</td>\n",
       "      <td>77569.0</td>\n",
       "      <td>500.0</td>\n",
       "      <td>Single</td>\n",
       "    </tr>\n",
       "    <tr>\n",
       "      <th>1</th>\n",
       "      <td>Ty Tiina Hume</td>\n",
       "      <td>867-555-0148</td>\n",
       "      <td>Yellowknife</td>\n",
       "      <td>214 West Maple Dr.</td>\n",
       "      <td>X1A3J6</td>\n",
       "      <td>05-Sep-91</td>\n",
       "      <td>117630.0</td>\n",
       "      <td>5000.0</td>\n",
       "      <td>Divorced</td>\n",
       "    </tr>\n",
       "    <tr>\n",
       "      <th>2</th>\n",
       "      <td>Anita Travert</td>\n",
       "      <td>613-555-0111</td>\n",
       "      <td>Ottawa</td>\n",
       "      <td>24 Constitution St.</td>\n",
       "      <td>K2B8E3</td>\n",
       "      <td>02-May-52</td>\n",
       "      <td>NaN</td>\n",
       "      <td>3000.0</td>\n",
       "      <td>Married</td>\n",
       "    </tr>\n",
       "    <tr>\n",
       "      <th>3</th>\n",
       "      <td>Odilon Vera Ó Maoil Riain</td>\n",
       "      <td>204-555-0105</td>\n",
       "      <td>Winnipeg</td>\n",
       "      <td>7941 Greenview Street</td>\n",
       "      <td>R3G2J6</td>\n",
       "      <td>31-Oct-81</td>\n",
       "      <td>97911.0</td>\n",
       "      <td>4000.0</td>\n",
       "      <td>Divorced</td>\n",
       "    </tr>\n",
       "    <tr>\n",
       "      <th>4</th>\n",
       "      <td>Dot Cloé Jonasen</td>\n",
       "      <td>902555-0157</td>\n",
       "      <td>Charlottetown</td>\n",
       "      <td>74 Monroe Street</td>\n",
       "      <td>C1A2V3</td>\n",
       "      <td>25-Jul-01</td>\n",
       "      <td>NaN</td>\n",
       "      <td>NaN</td>\n",
       "      <td>NaN</td>\n",
       "    </tr>\n",
       "  </tbody>\n",
       "</table>\n",
       "</div>"
      ],
      "text/plain": [
       "                        Name   PhoneNumber           City  \\\n",
       "0       Thane Arthur Andrews    8675550155    Yellowknife   \n",
       "1              Ty Tiina Hume  867-555-0148    Yellowknife   \n",
       "2              Anita Travert  613-555-0111         Ottawa   \n",
       "3  Odilon Vera Ó Maoil Riain  204-555-0105       Winnipeg   \n",
       "4           Dot Cloé Jonasen   902555-0157  Charlottetown   \n",
       "\n",
       "                   Address PostalCode  BirthDate    Income  CreditLimit  \\\n",
       "0  25 West Arlington Drive     X1A3C7  30-Jan-87   77569.0        500.0   \n",
       "1       214 West Maple Dr.     X1A3J6  05-Sep-91  117630.0       5000.0   \n",
       "2      24 Constitution St.     K2B8E3  02-May-52       NaN       3000.0   \n",
       "3    7941 Greenview Street     R3G2J6  31-Oct-81   97911.0       4000.0   \n",
       "4         74 Monroe Street     C1A2V3  25-Jul-01       NaN          NaN   \n",
       "\n",
       "  MaritalStatus  \n",
       "0        Single  \n",
       "1      Divorced  \n",
       "2       Married  \n",
       "3      Divorced  \n",
       "4           NaN  "
      ]
     },
     "execution_count": 24,
     "metadata": {},
     "output_type": "execute_result"
    }
   ],
   "source": [
    "df.head()"
   ]
  },
  {
   "cell_type": "code",
   "execution_count": 22,
   "metadata": {},
   "outputs": [
    {
     "data": {
      "text/plain": [
       "0      500\n",
       "1     5000\n",
       "2     3000\n",
       "3     4000\n",
       "4     5000\n",
       "5     4500\n",
       "6     5000\n",
       "7      500\n",
       "8     3500\n",
       "9     3000\n",
       "10    1000\n",
       "11    4000\n",
       "12    2500\n",
       "13    3000\n",
       "14    1000\n",
       "15    2500\n",
       "16    3000\n",
       "17    3800\n",
       "18    4000\n",
       "19    3000\n",
       "20    4500\n",
       "21    4500\n",
       "22    3500\n",
       "23     500\n",
       "24    3500\n",
       "25    3000\n",
       "26    1000\n",
       "27    3800\n",
       "28    2500\n",
       "29    5000\n",
       "Name: CreditLimit, dtype: object"
      ]
     },
     "execution_count": 22,
     "metadata": {},
     "output_type": "execute_result"
    }
   ],
   "source": [
    "df['CreditLimit'].replace('high',5000)"
   ]
  },
  {
   "cell_type": "code",
   "execution_count": 33,
   "metadata": {},
   "outputs": [
    {
     "name": "stderr",
     "output_type": "stream",
     "text": [
      "/var/folders/75/tr_v06ms4k7gy38vcppxbcf80000gn/T/ipykernel_46510/1139435587.py:3: UserWarning: Could not infer format, so each element will be parsed individually, falling back to `dateutil`. To ensure parsing is consistent and as-expected, please specify a format.\n",
      "  df['BirthDate'] = pd.to_datetime(df['BirthDate'])\n"
     ]
    }
   ],
   "source": [
    "# fixing the datetime data type\n",
    "\n",
    "df['BirthDate'] = pd.to_datetime(df['BirthDate'])"
   ]
  },
  {
   "cell_type": "code",
   "execution_count": 34,
   "metadata": {},
   "outputs": [
    {
     "data": {
      "text/html": [
       "<div>\n",
       "<style scoped>\n",
       "    .dataframe tbody tr th:only-of-type {\n",
       "        vertical-align: middle;\n",
       "    }\n",
       "\n",
       "    .dataframe tbody tr th {\n",
       "        vertical-align: top;\n",
       "    }\n",
       "\n",
       "    .dataframe thead th {\n",
       "        text-align: right;\n",
       "    }\n",
       "</style>\n",
       "<table border=\"1\" class=\"dataframe\">\n",
       "  <thead>\n",
       "    <tr style=\"text-align: right;\">\n",
       "      <th></th>\n",
       "      <th>Name</th>\n",
       "      <th>PhoneNumber</th>\n",
       "      <th>City</th>\n",
       "      <th>Address</th>\n",
       "      <th>PostalCode</th>\n",
       "      <th>BirthDate</th>\n",
       "      <th>Income</th>\n",
       "      <th>CreditLimit</th>\n",
       "      <th>MaritalStatus</th>\n",
       "    </tr>\n",
       "  </thead>\n",
       "  <tbody>\n",
       "    <tr>\n",
       "      <th>0</th>\n",
       "      <td>Thane Arthur Andrews</td>\n",
       "      <td>8675550155</td>\n",
       "      <td>Yellowknife</td>\n",
       "      <td>25 West Arlington Drive</td>\n",
       "      <td>X1A3C7</td>\n",
       "      <td>1987-01-30</td>\n",
       "      <td>77569.0</td>\n",
       "      <td>500.0</td>\n",
       "      <td>Single</td>\n",
       "    </tr>\n",
       "    <tr>\n",
       "      <th>1</th>\n",
       "      <td>Ty Tiina Hume</td>\n",
       "      <td>867-555-0148</td>\n",
       "      <td>Yellowknife</td>\n",
       "      <td>214 West Maple Dr.</td>\n",
       "      <td>X1A3J6</td>\n",
       "      <td>1991-09-05</td>\n",
       "      <td>117630.0</td>\n",
       "      <td>5000.0</td>\n",
       "      <td>Divorced</td>\n",
       "    </tr>\n",
       "    <tr>\n",
       "      <th>2</th>\n",
       "      <td>Anita Travert</td>\n",
       "      <td>613-555-0111</td>\n",
       "      <td>Ottawa</td>\n",
       "      <td>24 Constitution St.</td>\n",
       "      <td>K2B8E3</td>\n",
       "      <td>2052-05-02</td>\n",
       "      <td>NaN</td>\n",
       "      <td>3000.0</td>\n",
       "      <td>Married</td>\n",
       "    </tr>\n",
       "    <tr>\n",
       "      <th>3</th>\n",
       "      <td>Odilon Vera Ó Maoil Riain</td>\n",
       "      <td>204-555-0105</td>\n",
       "      <td>Winnipeg</td>\n",
       "      <td>7941 Greenview Street</td>\n",
       "      <td>R3G2J6</td>\n",
       "      <td>1981-10-31</td>\n",
       "      <td>97911.0</td>\n",
       "      <td>4000.0</td>\n",
       "      <td>Divorced</td>\n",
       "    </tr>\n",
       "    <tr>\n",
       "      <th>4</th>\n",
       "      <td>Dot Cloé Jonasen</td>\n",
       "      <td>902555-0157</td>\n",
       "      <td>Charlottetown</td>\n",
       "      <td>74 Monroe Street</td>\n",
       "      <td>C1A2V3</td>\n",
       "      <td>2001-07-25</td>\n",
       "      <td>NaN</td>\n",
       "      <td>NaN</td>\n",
       "      <td>NaN</td>\n",
       "    </tr>\n",
       "  </tbody>\n",
       "</table>\n",
       "</div>"
      ],
      "text/plain": [
       "                        Name   PhoneNumber           City  \\\n",
       "0       Thane Arthur Andrews    8675550155    Yellowknife   \n",
       "1              Ty Tiina Hume  867-555-0148    Yellowknife   \n",
       "2              Anita Travert  613-555-0111         Ottawa   \n",
       "3  Odilon Vera Ó Maoil Riain  204-555-0105       Winnipeg   \n",
       "4           Dot Cloé Jonasen   902555-0157  Charlottetown   \n",
       "\n",
       "                   Address PostalCode  BirthDate    Income  CreditLimit  \\\n",
       "0  25 West Arlington Drive     X1A3C7 1987-01-30   77569.0        500.0   \n",
       "1       214 West Maple Dr.     X1A3J6 1991-09-05  117630.0       5000.0   \n",
       "2      24 Constitution St.     K2B8E3 2052-05-02       NaN       3000.0   \n",
       "3    7941 Greenview Street     R3G2J6 1981-10-31   97911.0       4000.0   \n",
       "4         74 Monroe Street     C1A2V3 2001-07-25       NaN          NaN   \n",
       "\n",
       "  MaritalStatus  \n",
       "0        Single  \n",
       "1      Divorced  \n",
       "2       Married  \n",
       "3      Divorced  \n",
       "4           NaN  "
      ]
     },
     "execution_count": 34,
     "metadata": {},
     "output_type": "execute_result"
    }
   ],
   "source": [
    "df.head()"
   ]
  },
  {
   "cell_type": "code",
   "execution_count": 35,
   "metadata": {},
   "outputs": [],
   "source": [
    "import datetime"
   ]
  },
  {
   "cell_type": "code",
   "execution_count": 42,
   "metadata": {},
   "outputs": [
    {
     "data": {
      "text/plain": [
       "2023"
      ]
     },
     "execution_count": 42,
     "metadata": {},
     "output_type": "execute_result"
    }
   ],
   "source": [
    "datetime.datetime.today().year"
   ]
  },
  {
   "cell_type": "code",
   "execution_count": 43,
   "metadata": {},
   "outputs": [],
   "source": [
    "def fix_birthdate(x):\n",
    "    if x.year > datetime.datetime.today().year:\n",
    "        year = x.year - 100\n",
    "    else:\n",
    "        year = x.year\n",
    "\n",
    "    return datetime.date(year, x.month, x.day)"
   ]
  },
  {
   "cell_type": "code",
   "execution_count": 45,
   "metadata": {},
   "outputs": [],
   "source": [
    "df['BirthDate'] = df['BirthDate'].apply(fix_birthdate)"
   ]
  },
  {
   "cell_type": "code",
   "execution_count": 46,
   "metadata": {},
   "outputs": [
    {
     "data": {
      "text/html": [
       "<div>\n",
       "<style scoped>\n",
       "    .dataframe tbody tr th:only-of-type {\n",
       "        vertical-align: middle;\n",
       "    }\n",
       "\n",
       "    .dataframe tbody tr th {\n",
       "        vertical-align: top;\n",
       "    }\n",
       "\n",
       "    .dataframe thead th {\n",
       "        text-align: right;\n",
       "    }\n",
       "</style>\n",
       "<table border=\"1\" class=\"dataframe\">\n",
       "  <thead>\n",
       "    <tr style=\"text-align: right;\">\n",
       "      <th></th>\n",
       "      <th>Name</th>\n",
       "      <th>PhoneNumber</th>\n",
       "      <th>City</th>\n",
       "      <th>Address</th>\n",
       "      <th>PostalCode</th>\n",
       "      <th>BirthDate</th>\n",
       "      <th>Income</th>\n",
       "      <th>CreditLimit</th>\n",
       "      <th>MaritalStatus</th>\n",
       "    </tr>\n",
       "  </thead>\n",
       "  <tbody>\n",
       "    <tr>\n",
       "      <th>0</th>\n",
       "      <td>Thane Arthur Andrews</td>\n",
       "      <td>8675550155</td>\n",
       "      <td>Yellowknife</td>\n",
       "      <td>25 West Arlington Drive</td>\n",
       "      <td>X1A3C7</td>\n",
       "      <td>1987-01-30</td>\n",
       "      <td>77569.0</td>\n",
       "      <td>500.0</td>\n",
       "      <td>Single</td>\n",
       "    </tr>\n",
       "    <tr>\n",
       "      <th>1</th>\n",
       "      <td>Ty Tiina Hume</td>\n",
       "      <td>867-555-0148</td>\n",
       "      <td>Yellowknife</td>\n",
       "      <td>214 West Maple Dr.</td>\n",
       "      <td>X1A3J6</td>\n",
       "      <td>1991-09-05</td>\n",
       "      <td>117630.0</td>\n",
       "      <td>5000.0</td>\n",
       "      <td>Divorced</td>\n",
       "    </tr>\n",
       "    <tr>\n",
       "      <th>2</th>\n",
       "      <td>Anita Travert</td>\n",
       "      <td>613-555-0111</td>\n",
       "      <td>Ottawa</td>\n",
       "      <td>24 Constitution St.</td>\n",
       "      <td>K2B8E3</td>\n",
       "      <td>1952-05-02</td>\n",
       "      <td>NaN</td>\n",
       "      <td>3000.0</td>\n",
       "      <td>Married</td>\n",
       "    </tr>\n",
       "    <tr>\n",
       "      <th>3</th>\n",
       "      <td>Odilon Vera Ó Maoil Riain</td>\n",
       "      <td>204-555-0105</td>\n",
       "      <td>Winnipeg</td>\n",
       "      <td>7941 Greenview Street</td>\n",
       "      <td>R3G2J6</td>\n",
       "      <td>1981-10-31</td>\n",
       "      <td>97911.0</td>\n",
       "      <td>4000.0</td>\n",
       "      <td>Divorced</td>\n",
       "    </tr>\n",
       "    <tr>\n",
       "      <th>4</th>\n",
       "      <td>Dot Cloé Jonasen</td>\n",
       "      <td>902555-0157</td>\n",
       "      <td>Charlottetown</td>\n",
       "      <td>74 Monroe Street</td>\n",
       "      <td>C1A2V3</td>\n",
       "      <td>2001-07-25</td>\n",
       "      <td>NaN</td>\n",
       "      <td>NaN</td>\n",
       "      <td>NaN</td>\n",
       "    </tr>\n",
       "  </tbody>\n",
       "</table>\n",
       "</div>"
      ],
      "text/plain": [
       "                        Name   PhoneNumber           City  \\\n",
       "0       Thane Arthur Andrews    8675550155    Yellowknife   \n",
       "1              Ty Tiina Hume  867-555-0148    Yellowknife   \n",
       "2              Anita Travert  613-555-0111         Ottawa   \n",
       "3  Odilon Vera Ó Maoil Riain  204-555-0105       Winnipeg   \n",
       "4           Dot Cloé Jonasen   902555-0157  Charlottetown   \n",
       "\n",
       "                   Address PostalCode   BirthDate    Income  CreditLimit  \\\n",
       "0  25 West Arlington Drive     X1A3C7  1987-01-30   77569.0        500.0   \n",
       "1       214 West Maple Dr.     X1A3J6  1991-09-05  117630.0       5000.0   \n",
       "2      24 Constitution St.     K2B8E3  1952-05-02       NaN       3000.0   \n",
       "3    7941 Greenview Street     R3G2J6  1981-10-31   97911.0       4000.0   \n",
       "4         74 Monroe Street     C1A2V3  2001-07-25       NaN          NaN   \n",
       "\n",
       "  MaritalStatus  \n",
       "0        Single  \n",
       "1      Divorced  \n",
       "2       Married  \n",
       "3      Divorced  \n",
       "4           NaN  "
      ]
     },
     "execution_count": 46,
     "metadata": {},
     "output_type": "execute_result"
    }
   ],
   "source": [
    "df.head()"
   ]
  },
  {
   "cell_type": "code",
   "execution_count": 47,
   "metadata": {},
   "outputs": [
    {
     "data": {
      "text/plain": [
       "array(['Yellowknife', 'Ottawa', 'Winnipeg', 'Charlottetown',\n",
       "       'Charlotttetownn', 'Toronto', 'Winnipegg', 'Ottawas', 'Toronot'],\n",
       "      dtype=object)"
      ]
     },
     "execution_count": 47,
     "metadata": {},
     "output_type": "execute_result"
    }
   ],
   "source": [
    "# check for spellings in the City column\n",
    "df['City'].unique()"
   ]
  },
  {
   "cell_type": "code",
   "execution_count": 48,
   "metadata": {},
   "outputs": [
    {
     "data": {
      "text/plain": [
       "array(['Single', 'Divorced', 'Married', nan], dtype=object)"
      ]
     },
     "execution_count": 48,
     "metadata": {},
     "output_type": "execute_result"
    }
   ],
   "source": [
    "# check for spellings in the marital status column\n",
    "df['MaritalStatus'].unique()"
   ]
  },
  {
   "cell_type": "code",
   "execution_count": 49,
   "metadata": {},
   "outputs": [],
   "source": [
    "# replace misspelling directly\n",
    "df['City'] = df['City'].replace('Charlotttetownn','Charlottetown')"
   ]
  },
  {
   "cell_type": "code",
   "execution_count": 50,
   "metadata": {},
   "outputs": [],
   "source": [
    "# OR map misspellings to a correct spelling\n",
    "corrections_dict = {'Yellowknife':'Yellowknife', \n",
    "                    'Ottawa':'Ottawa', \n",
    "                    'Winnipeg':'Winnipeg', \n",
    "                    'Charlottetown':'Charlottetown',\n",
    "                    'Charlotttetownn':'Charlottetown', \n",
    "                    'Toronto':'Toronto', \n",
    "                    'Winnipegg':'Winnipeg', \n",
    "                    'Ottawas':'Ottawa', \n",
    "                    'Toronot':'Toronto'}"
   ]
  },
  {
   "cell_type": "code",
   "execution_count": 51,
   "metadata": {},
   "outputs": [],
   "source": [
    "df['City'] = df['City'].map(corrections_dict)"
   ]
  },
  {
   "cell_type": "code",
   "execution_count": 53,
   "metadata": {},
   "outputs": [
    {
     "data": {
      "text/plain": [
       "array(['Yellowknife', 'Ottawa', 'Winnipeg', 'Charlottetown', 'Toronto'],\n",
       "      dtype=object)"
      ]
     },
     "execution_count": 53,
     "metadata": {},
     "output_type": "execute_result"
    }
   ],
   "source": [
    "df['City'].unique()"
   ]
  },
  {
   "cell_type": "code",
   "execution_count": 57,
   "metadata": {},
   "outputs": [
    {
     "data": {
      "text/html": [
       "<div>\n",
       "<style scoped>\n",
       "    .dataframe tbody tr th:only-of-type {\n",
       "        vertical-align: middle;\n",
       "    }\n",
       "\n",
       "    .dataframe tbody tr th {\n",
       "        vertical-align: top;\n",
       "    }\n",
       "\n",
       "    .dataframe thead th {\n",
       "        text-align: right;\n",
       "    }\n",
       "</style>\n",
       "<table border=\"1\" class=\"dataframe\">\n",
       "  <thead>\n",
       "    <tr style=\"text-align: right;\">\n",
       "      <th></th>\n",
       "      <th>Name</th>\n",
       "      <th>PhoneNumber</th>\n",
       "      <th>City</th>\n",
       "      <th>Address</th>\n",
       "      <th>PostalCode</th>\n",
       "      <th>BirthDate</th>\n",
       "      <th>Income</th>\n",
       "      <th>CreditLimit</th>\n",
       "    </tr>\n",
       "    <tr>\n",
       "      <th>MaritalStatus</th>\n",
       "      <th></th>\n",
       "      <th></th>\n",
       "      <th></th>\n",
       "      <th></th>\n",
       "      <th></th>\n",
       "      <th></th>\n",
       "      <th></th>\n",
       "      <th></th>\n",
       "    </tr>\n",
       "  </thead>\n",
       "  <tbody>\n",
       "    <tr>\n",
       "      <th>Divorced</th>\n",
       "      <td>7</td>\n",
       "      <td>7</td>\n",
       "      <td>7</td>\n",
       "      <td>7</td>\n",
       "      <td>7</td>\n",
       "      <td>7</td>\n",
       "      <td>5</td>\n",
       "      <td>7</td>\n",
       "    </tr>\n",
       "    <tr>\n",
       "      <th>Married</th>\n",
       "      <td>9</td>\n",
       "      <td>9</td>\n",
       "      <td>9</td>\n",
       "      <td>9</td>\n",
       "      <td>9</td>\n",
       "      <td>9</td>\n",
       "      <td>8</td>\n",
       "      <td>9</td>\n",
       "    </tr>\n",
       "    <tr>\n",
       "      <th>Single</th>\n",
       "      <td>8</td>\n",
       "      <td>8</td>\n",
       "      <td>8</td>\n",
       "      <td>8</td>\n",
       "      <td>8</td>\n",
       "      <td>8</td>\n",
       "      <td>8</td>\n",
       "      <td>8</td>\n",
       "    </tr>\n",
       "  </tbody>\n",
       "</table>\n",
       "</div>"
      ],
      "text/plain": [
       "               Name  PhoneNumber  City  Address  PostalCode  BirthDate  \\\n",
       "MaritalStatus                                                            \n",
       "Divorced          7            7     7        7           7          7   \n",
       "Married           9            9     9        9           9          9   \n",
       "Single            8            8     8        8           8          8   \n",
       "\n",
       "               Income  CreditLimit  \n",
       "MaritalStatus                       \n",
       "Divorced            5            7  \n",
       "Married             8            9  \n",
       "Single              8            8  "
      ]
     },
     "execution_count": 57,
     "metadata": {},
     "output_type": "execute_result"
    }
   ],
   "source": [
    "# Missing Data\n",
    "df.groupby('MaritalStatus').count()"
   ]
  },
  {
   "cell_type": "code",
   "execution_count": 58,
   "metadata": {},
   "outputs": [],
   "source": [
    "# fill in with a constant\n",
    "df['MaritalStatus'] = df['MaritalStatus'].fillna('Unknown')"
   ]
  },
  {
   "cell_type": "code",
   "execution_count": 61,
   "metadata": {},
   "outputs": [],
   "source": [
    "# fill in with aggregate value for a single column\n",
    "df['CreditLimit'] = df['CreditLimit'].fillna(df['CreditLimit'].median())"
   ]
  },
  {
   "cell_type": "code",
   "execution_count": 59,
   "metadata": {},
   "outputs": [
    {
     "data": {
      "text/plain": [
       "City\n",
       "Charlottetown    122042.0\n",
       "Ottawa            75545.0\n",
       "Toronto           75039.0\n",
       "Winnipeg          79284.5\n",
       "Yellowknife      122699.0\n",
       "Name: Income, dtype: float64"
      ]
     },
     "execution_count": 59,
     "metadata": {},
     "output_type": "execute_result"
    }
   ],
   "source": [
    "# for a more complex application, we could use groupby\n",
    "df.groupby('City')['Income'].median()"
   ]
  },
  {
   "cell_type": "code",
   "execution_count": 60,
   "metadata": {},
   "outputs": [
    {
     "data": {
      "text/plain": [
       "107770.5"
      ]
     },
     "execution_count": 60,
     "metadata": {},
     "output_type": "execute_result"
    }
   ],
   "source": [
    "df['Income'].median()"
   ]
  },
  {
   "cell_type": "code",
   "execution_count": 63,
   "metadata": {},
   "outputs": [],
   "source": [
    "df['Income'] = df['Income'].fillna(df.groupby('City')['Income'].transform('median'))"
   ]
  },
  {
   "cell_type": "code",
   "execution_count": 65,
   "metadata": {},
   "outputs": [
    {
     "data": {
      "text/html": [
       "<div>\n",
       "<style scoped>\n",
       "    .dataframe tbody tr th:only-of-type {\n",
       "        vertical-align: middle;\n",
       "    }\n",
       "\n",
       "    .dataframe tbody tr th {\n",
       "        vertical-align: top;\n",
       "    }\n",
       "\n",
       "    .dataframe thead th {\n",
       "        text-align: right;\n",
       "    }\n",
       "</style>\n",
       "<table border=\"1\" class=\"dataframe\">\n",
       "  <thead>\n",
       "    <tr style=\"text-align: right;\">\n",
       "      <th></th>\n",
       "      <th>Name</th>\n",
       "      <th>PhoneNumber</th>\n",
       "      <th>City</th>\n",
       "      <th>Address</th>\n",
       "      <th>PostalCode</th>\n",
       "      <th>BirthDate</th>\n",
       "      <th>Income</th>\n",
       "      <th>CreditLimit</th>\n",
       "      <th>MaritalStatus</th>\n",
       "    </tr>\n",
       "  </thead>\n",
       "  <tbody>\n",
       "    <tr>\n",
       "      <th>0</th>\n",
       "      <td>Thane Arthur Andrews</td>\n",
       "      <td>8675550155</td>\n",
       "      <td>Yellowknife</td>\n",
       "      <td>25 West Arlington Drive</td>\n",
       "      <td>X1A3C7</td>\n",
       "      <td>1987-01-30</td>\n",
       "      <td>77569.0</td>\n",
       "      <td>500.0</td>\n",
       "      <td>Single</td>\n",
       "    </tr>\n",
       "    <tr>\n",
       "      <th>1</th>\n",
       "      <td>Ty Tiina Hume</td>\n",
       "      <td>867-555-0148</td>\n",
       "      <td>Yellowknife</td>\n",
       "      <td>214 West Maple Dr.</td>\n",
       "      <td>X1A3J6</td>\n",
       "      <td>1991-09-05</td>\n",
       "      <td>117630.0</td>\n",
       "      <td>5000.0</td>\n",
       "      <td>Divorced</td>\n",
       "    </tr>\n",
       "    <tr>\n",
       "      <th>2</th>\n",
       "      <td>Anita Travert</td>\n",
       "      <td>613-555-0111</td>\n",
       "      <td>Ottawa</td>\n",
       "      <td>24 Constitution St.</td>\n",
       "      <td>K2B8E3</td>\n",
       "      <td>1952-05-02</td>\n",
       "      <td>75545.0</td>\n",
       "      <td>3000.0</td>\n",
       "      <td>Married</td>\n",
       "    </tr>\n",
       "    <tr>\n",
       "      <th>3</th>\n",
       "      <td>Odilon Vera Ó Maoil Riain</td>\n",
       "      <td>204-555-0105</td>\n",
       "      <td>Winnipeg</td>\n",
       "      <td>7941 Greenview Street</td>\n",
       "      <td>R3G2J6</td>\n",
       "      <td>1981-10-31</td>\n",
       "      <td>97911.0</td>\n",
       "      <td>4000.0</td>\n",
       "      <td>Divorced</td>\n",
       "    </tr>\n",
       "    <tr>\n",
       "      <th>4</th>\n",
       "      <td>Dot Cloé Jonasen</td>\n",
       "      <td>902555-0157</td>\n",
       "      <td>Charlottetown</td>\n",
       "      <td>74 Monroe Street</td>\n",
       "      <td>C1A2V3</td>\n",
       "      <td>2001-07-25</td>\n",
       "      <td>122042.0</td>\n",
       "      <td>3000.0</td>\n",
       "      <td>Unknown</td>\n",
       "    </tr>\n",
       "  </tbody>\n",
       "</table>\n",
       "</div>"
      ],
      "text/plain": [
       "                        Name   PhoneNumber           City  \\\n",
       "0       Thane Arthur Andrews    8675550155    Yellowknife   \n",
       "1              Ty Tiina Hume  867-555-0148    Yellowknife   \n",
       "2              Anita Travert  613-555-0111         Ottawa   \n",
       "3  Odilon Vera Ó Maoil Riain  204-555-0105       Winnipeg   \n",
       "4           Dot Cloé Jonasen   902555-0157  Charlottetown   \n",
       "\n",
       "                   Address PostalCode   BirthDate    Income  CreditLimit  \\\n",
       "0  25 West Arlington Drive     X1A3C7  1987-01-30   77569.0        500.0   \n",
       "1       214 West Maple Dr.     X1A3J6  1991-09-05  117630.0       5000.0   \n",
       "2      24 Constitution St.     K2B8E3  1952-05-02   75545.0       3000.0   \n",
       "3    7941 Greenview Street     R3G2J6  1981-10-31   97911.0       4000.0   \n",
       "4         74 Monroe Street     C1A2V3  2001-07-25  122042.0       3000.0   \n",
       "\n",
       "  MaritalStatus  \n",
       "0        Single  \n",
       "1      Divorced  \n",
       "2       Married  \n",
       "3      Divorced  \n",
       "4       Unknown  "
      ]
     },
     "execution_count": 65,
     "metadata": {},
     "output_type": "execute_result"
    }
   ],
   "source": [
    "df.head()"
   ]
  },
  {
   "cell_type": "code",
   "execution_count": 67,
   "metadata": {},
   "outputs": [],
   "source": [
    "df2['CreditLimit'] = pd.to_numeric(df2['CreditLimit'], errors='coerce')"
   ]
  },
  {
   "cell_type": "code",
   "execution_count": 70,
   "metadata": {},
   "outputs": [
    {
     "data": {
      "text/html": [
       "<div>\n",
       "<style scoped>\n",
       "    .dataframe tbody tr th:only-of-type {\n",
       "        vertical-align: middle;\n",
       "    }\n",
       "\n",
       "    .dataframe tbody tr th {\n",
       "        vertical-align: top;\n",
       "    }\n",
       "\n",
       "    .dataframe thead th {\n",
       "        text-align: right;\n",
       "    }\n",
       "</style>\n",
       "<table border=\"1\" class=\"dataframe\">\n",
       "  <thead>\n",
       "    <tr style=\"text-align: right;\">\n",
       "      <th></th>\n",
       "      <th>Income</th>\n",
       "      <th>CreditLimit</th>\n",
       "    </tr>\n",
       "  </thead>\n",
       "  <tbody>\n",
       "    <tr>\n",
       "      <th>count</th>\n",
       "      <td>26.000000</td>\n",
       "      <td>29.000000</td>\n",
       "    </tr>\n",
       "    <tr>\n",
       "      <th>mean</th>\n",
       "      <td>104742.461538</td>\n",
       "      <td>3055.172414</td>\n",
       "    </tr>\n",
       "    <tr>\n",
       "      <th>std</th>\n",
       "      <td>52935.742490</td>\n",
       "      <td>1403.970443</td>\n",
       "    </tr>\n",
       "    <tr>\n",
       "      <th>min</th>\n",
       "      <td>18475.000000</td>\n",
       "      <td>500.000000</td>\n",
       "    </tr>\n",
       "    <tr>\n",
       "      <th>25%</th>\n",
       "      <td>66131.250000</td>\n",
       "      <td>2500.000000</td>\n",
       "    </tr>\n",
       "    <tr>\n",
       "      <th>50%</th>\n",
       "      <td>107770.500000</td>\n",
       "      <td>3000.000000</td>\n",
       "    </tr>\n",
       "    <tr>\n",
       "      <th>75%</th>\n",
       "      <td>146980.750000</td>\n",
       "      <td>4000.000000</td>\n",
       "    </tr>\n",
       "    <tr>\n",
       "      <th>max</th>\n",
       "      <td>256360.000000</td>\n",
       "      <td>5000.000000</td>\n",
       "    </tr>\n",
       "  </tbody>\n",
       "</table>\n",
       "</div>"
      ],
      "text/plain": [
       "              Income  CreditLimit\n",
       "count      26.000000    29.000000\n",
       "mean   104742.461538  3055.172414\n",
       "std     52935.742490  1403.970443\n",
       "min     18475.000000   500.000000\n",
       "25%     66131.250000  2500.000000\n",
       "50%    107770.500000  3000.000000\n",
       "75%    146980.750000  4000.000000\n",
       "max    256360.000000  5000.000000"
      ]
     },
     "execution_count": 70,
     "metadata": {},
     "output_type": "execute_result"
    }
   ],
   "source": [
    "df2.describe()"
   ]
  },
  {
   "cell_type": "code",
   "execution_count": 68,
   "metadata": {},
   "outputs": [
    {
     "data": {
      "text/html": [
       "<div>\n",
       "<style scoped>\n",
       "    .dataframe tbody tr th:only-of-type {\n",
       "        vertical-align: middle;\n",
       "    }\n",
       "\n",
       "    .dataframe tbody tr th {\n",
       "        vertical-align: top;\n",
       "    }\n",
       "\n",
       "    .dataframe thead th {\n",
       "        text-align: right;\n",
       "    }\n",
       "</style>\n",
       "<table border=\"1\" class=\"dataframe\">\n",
       "  <thead>\n",
       "    <tr style=\"text-align: right;\">\n",
       "      <th></th>\n",
       "      <th>Income</th>\n",
       "      <th>CreditLimit</th>\n",
       "    </tr>\n",
       "  </thead>\n",
       "  <tbody>\n",
       "    <tr>\n",
       "      <th>count</th>\n",
       "      <td>21.000000</td>\n",
       "      <td>21.000000</td>\n",
       "    </tr>\n",
       "    <tr>\n",
       "      <th>mean</th>\n",
       "      <td>106222.238095</td>\n",
       "      <td>3147.619048</td>\n",
       "    </tr>\n",
       "    <tr>\n",
       "      <th>std</th>\n",
       "      <td>56543.729211</td>\n",
       "      <td>1415.492511</td>\n",
       "    </tr>\n",
       "    <tr>\n",
       "      <th>min</th>\n",
       "      <td>18475.000000</td>\n",
       "      <td>500.000000</td>\n",
       "    </tr>\n",
       "    <tr>\n",
       "      <th>25%</th>\n",
       "      <td>60658.000000</td>\n",
       "      <td>2500.000000</td>\n",
       "    </tr>\n",
       "    <tr>\n",
       "      <th>50%</th>\n",
       "      <td>117630.000000</td>\n",
       "      <td>3500.000000</td>\n",
       "    </tr>\n",
       "    <tr>\n",
       "      <th>75%</th>\n",
       "      <td>147312.000000</td>\n",
       "      <td>4000.000000</td>\n",
       "    </tr>\n",
       "    <tr>\n",
       "      <th>max</th>\n",
       "      <td>256360.000000</td>\n",
       "      <td>5000.000000</td>\n",
       "    </tr>\n",
       "  </tbody>\n",
       "</table>\n",
       "</div>"
      ],
      "text/plain": [
       "              Income  CreditLimit\n",
       "count      21.000000    21.000000\n",
       "mean   106222.238095  3147.619048\n",
       "std     56543.729211  1415.492511\n",
       "min     18475.000000   500.000000\n",
       "25%     60658.000000  2500.000000\n",
       "50%    117630.000000  3500.000000\n",
       "75%    147312.000000  4000.000000\n",
       "max    256360.000000  5000.000000"
      ]
     },
     "execution_count": 68,
     "metadata": {},
     "output_type": "execute_result"
    }
   ],
   "source": [
    "df2.dropna().describe()"
   ]
  },
  {
   "cell_type": "code",
   "execution_count": 69,
   "metadata": {},
   "outputs": [
    {
     "data": {
      "text/html": [
       "<div>\n",
       "<style scoped>\n",
       "    .dataframe tbody tr th:only-of-type {\n",
       "        vertical-align: middle;\n",
       "    }\n",
       "\n",
       "    .dataframe tbody tr th {\n",
       "        vertical-align: top;\n",
       "    }\n",
       "\n",
       "    .dataframe thead th {\n",
       "        text-align: right;\n",
       "    }\n",
       "</style>\n",
       "<table border=\"1\" class=\"dataframe\">\n",
       "  <thead>\n",
       "    <tr style=\"text-align: right;\">\n",
       "      <th></th>\n",
       "      <th>Income</th>\n",
       "      <th>CreditLimit</th>\n",
       "    </tr>\n",
       "  </thead>\n",
       "  <tbody>\n",
       "    <tr>\n",
       "      <th>count</th>\n",
       "      <td>30.000000</td>\n",
       "      <td>30.000000</td>\n",
       "    </tr>\n",
       "    <tr>\n",
       "      <th>mean</th>\n",
       "      <td>103932.400000</td>\n",
       "      <td>3053.333333</td>\n",
       "    </tr>\n",
       "    <tr>\n",
       "      <th>std</th>\n",
       "      <td>49954.624336</td>\n",
       "      <td>1379.588478</td>\n",
       "    </tr>\n",
       "    <tr>\n",
       "      <th>min</th>\n",
       "      <td>18475.000000</td>\n",
       "      <td>500.000000</td>\n",
       "    </tr>\n",
       "    <tr>\n",
       "      <th>25%</th>\n",
       "      <td>69548.500000</td>\n",
       "      <td>2500.000000</td>\n",
       "    </tr>\n",
       "    <tr>\n",
       "      <th>50%</th>\n",
       "      <td>107770.500000</td>\n",
       "      <td>3000.000000</td>\n",
       "    </tr>\n",
       "    <tr>\n",
       "      <th>75%</th>\n",
       "      <td>141432.250000</td>\n",
       "      <td>4000.000000</td>\n",
       "    </tr>\n",
       "    <tr>\n",
       "      <th>max</th>\n",
       "      <td>256360.000000</td>\n",
       "      <td>5000.000000</td>\n",
       "    </tr>\n",
       "  </tbody>\n",
       "</table>\n",
       "</div>"
      ],
      "text/plain": [
       "              Income  CreditLimit\n",
       "count      30.000000    30.000000\n",
       "mean   103932.400000  3053.333333\n",
       "std     49954.624336  1379.588478\n",
       "min     18475.000000   500.000000\n",
       "25%     69548.500000  2500.000000\n",
       "50%    107770.500000  3000.000000\n",
       "75%    141432.250000  4000.000000\n",
       "max    256360.000000  5000.000000"
      ]
     },
     "execution_count": 69,
     "metadata": {},
     "output_type": "execute_result"
    }
   ],
   "source": [
    "df.describe()"
   ]
  },
  {
   "cell_type": "code",
   "execution_count": 71,
   "metadata": {},
   "outputs": [
    {
     "data": {
      "text/html": [
       "<div>\n",
       "<style scoped>\n",
       "    .dataframe tbody tr th:only-of-type {\n",
       "        vertical-align: middle;\n",
       "    }\n",
       "\n",
       "    .dataframe tbody tr th {\n",
       "        vertical-align: top;\n",
       "    }\n",
       "\n",
       "    .dataframe thead th {\n",
       "        text-align: right;\n",
       "    }\n",
       "</style>\n",
       "<table border=\"1\" class=\"dataframe\">\n",
       "  <thead>\n",
       "    <tr style=\"text-align: right;\">\n",
       "      <th></th>\n",
       "      <th>Income</th>\n",
       "      <th>CreditLimit</th>\n",
       "    </tr>\n",
       "  </thead>\n",
       "  <tbody>\n",
       "    <tr>\n",
       "      <th>count</th>\n",
       "      <td>26.000000</td>\n",
       "      <td>29.000000</td>\n",
       "    </tr>\n",
       "    <tr>\n",
       "      <th>mean</th>\n",
       "      <td>104742.461538</td>\n",
       "      <td>3055.172414</td>\n",
       "    </tr>\n",
       "    <tr>\n",
       "      <th>std</th>\n",
       "      <td>52935.742490</td>\n",
       "      <td>1403.970443</td>\n",
       "    </tr>\n",
       "    <tr>\n",
       "      <th>min</th>\n",
       "      <td>18475.000000</td>\n",
       "      <td>500.000000</td>\n",
       "    </tr>\n",
       "    <tr>\n",
       "      <th>25%</th>\n",
       "      <td>66131.250000</td>\n",
       "      <td>2500.000000</td>\n",
       "    </tr>\n",
       "    <tr>\n",
       "      <th>50%</th>\n",
       "      <td>107770.500000</td>\n",
       "      <td>3000.000000</td>\n",
       "    </tr>\n",
       "    <tr>\n",
       "      <th>75%</th>\n",
       "      <td>146980.750000</td>\n",
       "      <td>4000.000000</td>\n",
       "    </tr>\n",
       "    <tr>\n",
       "      <th>max</th>\n",
       "      <td>256360.000000</td>\n",
       "      <td>5000.000000</td>\n",
       "    </tr>\n",
       "  </tbody>\n",
       "</table>\n",
       "</div>"
      ],
      "text/plain": [
       "              Income  CreditLimit\n",
       "count      26.000000    29.000000\n",
       "mean   104742.461538  3055.172414\n",
       "std     52935.742490  1403.970443\n",
       "min     18475.000000   500.000000\n",
       "25%     66131.250000  2500.000000\n",
       "50%    107770.500000  3000.000000\n",
       "75%    146980.750000  4000.000000\n",
       "max    256360.000000  5000.000000"
      ]
     },
     "execution_count": 71,
     "metadata": {},
     "output_type": "execute_result"
    }
   ],
   "source": [
    "df2.describe()"
   ]
  },
  {
   "cell_type": "code",
   "execution_count": null,
   "metadata": {},
   "outputs": [],
   "source": []
  }
 ],
 "metadata": {
  "kernelspec": {
   "display_name": "Python 3",
   "language": "python",
   "name": "python3"
  },
  "language_info": {
   "codemirror_mode": {
    "name": "ipython",
    "version": 3
   },
   "file_extension": ".py",
   "mimetype": "text/x-python",
   "name": "python",
   "nbconvert_exporter": "python",
   "pygments_lexer": "ipython3",
   "version": "3.11.4"
  }
 },
 "nbformat": 4,
 "nbformat_minor": 2
}
